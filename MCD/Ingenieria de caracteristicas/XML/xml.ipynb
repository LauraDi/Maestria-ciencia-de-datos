{
 "cells": [
  {
   "cell_type": "markdown",
   "metadata": {},
   "source": [
    "<center>\n",
    "<p><img src=\"https://mcd.unison.mx/wp-content/themes/awaken/img/logo_mcd.png\" width=\"150\">\n",
    "</p>\n",
    "\n",
    "\n",
    "\n",
    "<h1>Curso Ingeniería de Características</h1>\n",
    "\n",
    "<h3> Dr. Julio Waissman Vilanova </h3>\n",
    "\n",
    "<h3>Descargando datos en XML</h3>\n",
    "\n",
    "<h2> Alumna: Diana Laura Ballesteros Valenzuela</h2>\n",
    "\n",
    "<p>\n",
    "<img src=\"https://identidadbuho.unison.mx/wp-content/uploads/2019/06/letragrama-cmyk-72.jpg\" width=\"150\">\n",
    "</p>\n",
    "\n",
    "\n",
    "</center>"
   ]
  },
  {
   "cell_type": "code",
   "execution_count": 1,
   "metadata": {},
   "outputs": [],
   "source": [
    "import re\n",
    "import pandas as pd\n",
    "import requests\n",
    "import xml.dom.minidom\n",
    "import numpy as np\n",
    "import xml.etree.cElementTree as et\n",
    "from inspect import getmembers , isclass , isfunction"
   ]
  },
  {
   "cell_type": "code",
   "execution_count": 2,
   "metadata": {},
   "outputs": [],
   "source": [
    "XML= \"https://raw.githubusercontent.com/mcd-unison/ing-caract/main/ejemplos/integracion/ejemplos/wikipedia-poetas.xml\""
   ]
  },
  {
   "cell_type": "code",
   "execution_count": 3,
   "metadata": {},
   "outputs": [],
   "source": [
    "response = requests.get(XML)\n",
    "\n",
    "with open('poetas.xml', 'wb') as file:\n",
    "    file.write(response.content)\n",
    "    \n",
    "dom = xml.dom.minidom.parse(\"./poetas.xml\") \n",
    "pretty = dom.toprettyxml()"
   ]
  },
  {
   "cell_type": "code",
   "execution_count": 4,
   "metadata": {},
   "outputs": [],
   "source": [
    "tree=et.parse('./poetas.xml') #Leemos archivo\n",
    "root=tree.getroot()"
   ]
  },
  {
   "cell_type": "code",
   "execution_count": 5,
   "metadata": {},
   "outputs": [],
   "source": [
    "lista_autores = []\n",
    "text_list = []\n",
    "\n",
    "for autor in root.findall('{http://www.mediawiki.org/xml/export-0.10/}page'):\n",
    "    title =  autor.find('{http://www.mediawiki.org/xml/export-0.10/}title')\n",
    "    revision =  autor.find('{http://www.mediawiki.org/xml/export-0.10/}revision')\n",
    "    texto = revision.find('{http://www.mediawiki.org/xml/export-0.10/}text')\n",
    "    \n",
    "    lista_autores.append(title.text)\n",
    "    text_list.append(texto.text)"
   ]
  },
  {
   "cell_type": "code",
   "execution_count": 6,
   "metadata": {},
   "outputs": [],
   "source": [
    "df_autores = pd.DataFrame(lista_autores) #Dataframe para autores\n",
    "df_autores.columns = ['Autor']\n",
    "\n",
    "df_text = pd.DataFrame(text_list) #dataframe para texto\n",
    "df_text.columns = ['Texto']\n",
    "\n",
    "df = pd.concat([df_autores, df_text], axis=1, join='inner')"
   ]
  },
  {
   "cell_type": "code",
   "execution_count": 7,
   "metadata": {
    "scrolled": true
   },
   "outputs": [],
   "source": [
    "novela = []\n",
    "for text in df['Texto']: # Filtrar cada obra\n",
    "    novela_found = re.findall(\"(==\\s*Novela\\w*\\s*==)(.*?)(\\n==)\", text, flags = re.DOTALL)\n",
    "    novela.append(novela_found)"
   ]
  },
  {
   "cell_type": "code",
   "execution_count": 8,
   "metadata": {},
   "outputs": [],
   "source": [
    "dfNovela = pd.DataFrame(novela)\n",
    "dfNovela.columns = ['Novela']\n",
    "dfNovela \n",
    "\n",
    "df = pd.concat([df, dfNovela], axis=1, join='inner') \n",
    "df.to_parquet('poetas_df.parquet')  #dataframe con obra de cada autor"
   ]
  },
  {
   "cell_type": "code",
   "execution_count": null,
   "metadata": {},
   "outputs": [],
   "source": []
  }
 ],
 "metadata": {
  "kernelspec": {
   "display_name": "Python 3",
   "language": "python",
   "name": "python3"
  },
  "language_info": {
   "codemirror_mode": {
    "name": "ipython",
    "version": 3
   },
   "file_extension": ".py",
   "mimetype": "text/x-python",
   "name": "python",
   "nbconvert_exporter": "python",
   "pygments_lexer": "ipython3",
   "version": "3.6.2"
  },
  "vscode": {
   "interpreter": {
    "hash": "7bbc88b994272282fd1a09defab1a3c7c3501499b032f2963e06b3f53c7729f7"
   }
  }
 },
 "nbformat": 4,
 "nbformat_minor": 2
}
