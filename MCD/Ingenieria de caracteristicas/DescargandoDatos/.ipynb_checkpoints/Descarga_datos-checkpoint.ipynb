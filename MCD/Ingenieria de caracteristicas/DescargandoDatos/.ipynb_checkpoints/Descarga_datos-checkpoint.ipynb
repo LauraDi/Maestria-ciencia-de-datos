{
 "cells": [
  {
   "cell_type": "markdown",
   "metadata": {
    "id": "G11vHd2BKLu0"
   },
   "source": [
    "<center>\n",
    "<p><img src=\"https://mcd.unison.mx/wp-content/themes/awaken/img/logo_mcd.png\" width=\"150\">\n",
    "</p>\n",
    "\n",
    "\n",
    "\n",
    "# Curso *Ingeniería de Características*\n",
    "\n",
    "### Descargando datos\n",
    "\n",
    "\n",
    "#### Diana Ballesteros\n",
    "\n",
    "</center>"
   ]
  },
  {
   "cell_type": "markdown",
   "metadata": {},
   "source": [
    "# 1. Importando librerias necesarias\n",
    "\n",
    "Vamos primero cargando las bibliotecas necesarias:"
   ]
  },
  {
   "cell_type": "code",
   "execution_count": 1,
   "metadata": {
    "id": "N-YUOjmoKLu_"
   },
   "outputs": [],
   "source": [
    "import os  # Para manejo de archivos y directorios\n",
    "import urllib.request # Una forma estandard de descargar datos\n",
    "# import requests # Otra forma no de las librerías de uso comun\n",
    "\n",
    "import datetime # Fecha de descarga\n",
    "import pandas as pd # Solo para ver el archivo descargado\n",
    "import zipfile # Descompresión de archivos\n",
    "import wget"
   ]
  },
  {
   "cell_type": "markdown",
   "metadata": {
    "id": "Gk00pSmfKLu9"
   },
   "source": [
    "# 1. Descargando datos\n",
    "\n",
    "Vamos a ver primero como ir descargando datos y luego como lidiar con diferentes formatos. Es muy importante que, si los datos los vamos a cargar por única vez, descargar el conjunto de datos, tal como se encuentran, esto es `raw data`."
   ]
  },
  {
   "cell_type": "code",
   "execution_count": 2,
   "metadata": {},
   "outputs": [],
   "source": [
    "url= \"https://www.inegi.org.mx/contenidos/programas/exporta_ef/datosabiertos/\"\n",
    "nombreArchivo= \"conjunto_de_datos_eef_csv.zip\"\n",
    "subdir = \"./dataTemaSonora/\""
   ]
  },
  {
   "cell_type": "code",
   "execution_count": 3,
   "metadata": {},
   "outputs": [
    {
     "name": "stdout",
     "output_type": "stream",
     "text": [
      "100% [..............................................................................] 91297 / 91297\n",
      "Datos descargados!\n"
     ]
    }
   ],
   "source": [
    "if not os.path.exists(nombreArchivo):\n",
    "    if not os.path.exists(subdir): #verificamos que la carpeta de datos no exista\n",
    "        url= url + nombreArchivo #le damos la url completa \n",
    "        wget.download(url) #Descargamos el archivo\n",
    "        with zipfile.ZipFile(nombreArchivo, 'r') as zip_ref:# Descomprimimos el archivo\n",
    "            zip_ref.extractall(subdir + \"./\") #Extraemos todo lo que contiene el archivo\n",
    "        os.remove(nombreArchivo) #Eliminamos el archivo zip para quedarnos con el descomprimido\n",
    "        \n",
    "with open(subdir + \"info.txt\", 'w') as f:\n",
    "    f.write(\"Exportaciones por Entidad Federativa\\n\")\n",
    "    info = \"\"\"\n",
    "    Se presenta información de las actividades económicas relacionadas con exportaciones Agropecuarias, \n",
    "    Minería no petrolera, Extracción de Petróleo e Industrias Manufactureras, vinculando la información de los\n",
    "    registros aduanales con la de los Censos Económicos, Encuestas Manufactureras y Estadísticas Mineras, \n",
    "    con base en el Registro Estadístico de Negocios de México (RENEM). \n",
    "\n",
    "    \"\"\" \n",
    "    f.write(info + '\\n')\n",
    "    f.write(\"Descargado el \" + datetime.datetime.now().strftime(\"%Y-%m-%d %H:%M:%S\") + \"\\n\")\n",
    "    f.write(\"Desde: \" + url + \"\\n\")\n",
    "    f.write(\"Nombre: \" + nombreArchivo + \"\\n\")        \n",
    "print(\"\\nDatos descargados!\")"
   ]
  },
  {
   "cell_type": "code",
   "execution_count": 4,
   "metadata": {},
   "outputs": [],
   "source": [
    "carpeta= \"C:/Users/diana/Desktop/Maestria/Ingenieria-de-caracteristicas/DescargandoDatos/dataTemaSonora/conjunto_de_datos_eef_csv/conjunto_de_datos_eef_csv/conjunto_de_datos/\"\n",
    "nombreArchivo= \"bitacora_de_cambios_eef_anual_tr_cifra_2020.csv\"\n",
    "df_exportaciones = pd.read_csv(carpeta + nombreArchivo)"
   ]
  },
  {
   "cell_type": "code",
   "execution_count": 5,
   "metadata": {},
   "outputs": [
    {
     "data": {
      "text/html": [
       "<div>\n",
       "<style scoped>\n",
       "    .dataframe tbody tr th:only-of-type {\n",
       "        vertical-align: middle;\n",
       "    }\n",
       "\n",
       "    .dataframe tbody tr th {\n",
       "        vertical-align: top;\n",
       "    }\n",
       "\n",
       "    .dataframe thead th {\n",
       "        text-align: right;\n",
       "    }\n",
       "</style>\n",
       "<table border=\"1\" class=\"dataframe\">\n",
       "  <thead>\n",
       "    <tr style=\"text-align: right;\">\n",
       "      <th></th>\n",
       "      <th>Número de registro o fila</th>\n",
       "      <th>Nombre de campo</th>\n",
       "      <th>Dato publicado</th>\n",
       "      <th>Dato nuevo</th>\n",
       "      <th>Estatus del cambio</th>\n",
       "      <th>Fecha de modificación</th>\n",
       "      <th>Observaciones del cambio</th>\n",
       "    </tr>\n",
       "  </thead>\n",
       "  <tbody>\n",
       "    <tr>\n",
       "      <th>0</th>\n",
       "      <td>11370</td>\n",
       "      <td>VAL_USD</td>\n",
       "      <td>224981</td>\n",
       "      <td>224811</td>\n",
       "      <td>Cifras Preliminares.</td>\n",
       "      <td>30/09/2021</td>\n",
       "      <td>A partir del 30 de septiembre de 2021 se ajust...</td>\n",
       "    </tr>\n",
       "    <tr>\n",
       "      <th>1</th>\n",
       "      <td>11412</td>\n",
       "      <td>VAL_USD</td>\n",
       "      <td>35916</td>\n",
       "      <td>51890</td>\n",
       "      <td>Cifras Preliminares.</td>\n",
       "      <td>30/09/2021</td>\n",
       "      <td>A partir del 30 de septiembre de 2021 se ajust...</td>\n",
       "    </tr>\n",
       "    <tr>\n",
       "      <th>2</th>\n",
       "      <td>11504</td>\n",
       "      <td>VAL_USD</td>\n",
       "      <td>24167</td>\n",
       "      <td>251724</td>\n",
       "      <td>Cifras Preliminares.</td>\n",
       "      <td>30/09/2021</td>\n",
       "      <td>A partir del 30 de septiembre de 2021 se ajust...</td>\n",
       "    </tr>\n",
       "    <tr>\n",
       "      <th>3</th>\n",
       "      <td>11505</td>\n",
       "      <td>VAL_USD</td>\n",
       "      <td>752036</td>\n",
       "      <td>751950</td>\n",
       "      <td>Cifras Preliminares.</td>\n",
       "      <td>30/09/2021</td>\n",
       "      <td>A partir del 30 de septiembre de 2021 se ajust...</td>\n",
       "    </tr>\n",
       "    <tr>\n",
       "      <th>4</th>\n",
       "      <td>11519</td>\n",
       "      <td>VAL_USD</td>\n",
       "      <td>153299</td>\n",
       "      <td>NaN</td>\n",
       "      <td>Cifras Preliminares.</td>\n",
       "      <td>30/09/2021</td>\n",
       "      <td>A partir del 30 de septiembre de 2021 se ajust...</td>\n",
       "    </tr>\n",
       "  </tbody>\n",
       "</table>\n",
       "</div>"
      ],
      "text/plain": [
       "   Número de registro o fila Nombre de campo Dato publicado Dato nuevo  \\\n",
       "0                      11370         VAL_USD         224981     224811   \n",
       "1                      11412         VAL_USD          35916      51890   \n",
       "2                      11504         VAL_USD          24167     251724   \n",
       "3                      11505         VAL_USD         752036     751950   \n",
       "4                      11519         VAL_USD         153299        NaN   \n",
       "\n",
       "     Estatus del cambio Fecha de modificación  \\\n",
       "0  Cifras Preliminares.            30/09/2021   \n",
       "1  Cifras Preliminares.            30/09/2021   \n",
       "2  Cifras Preliminares.            30/09/2021   \n",
       "3  Cifras Preliminares.            30/09/2021   \n",
       "4  Cifras Preliminares.            30/09/2021   \n",
       "\n",
       "                            Observaciones del cambio  \n",
       "0  A partir del 30 de septiembre de 2021 se ajust...  \n",
       "1  A partir del 30 de septiembre de 2021 se ajust...  \n",
       "2  A partir del 30 de septiembre de 2021 se ajust...  \n",
       "3  A partir del 30 de septiembre de 2021 se ajust...  \n",
       "4  A partir del 30 de septiembre de 2021 se ajust...  "
      ]
     },
     "execution_count": 5,
     "metadata": {},
     "output_type": "execute_result"
    }
   ],
   "source": [
    "df_exportaciones.head()"
   ]
  },
  {
   "cell_type": "markdown",
   "metadata": {},
   "source": [
    "# Descargando dataset personas desaparecidas a nivel nacional"
   ]
  },
  {
   "cell_type": "code",
   "execution_count": 6,
   "metadata": {},
   "outputs": [],
   "source": [
    "\n",
    "#  Estos son los datos que vamos a descargar y donde vamos a guardarlos\n",
    "desaparecidos_RNPDNO_url = \"http://www.datamx.io/dataset/fdd2ca20-ee70-4a31-9bdf-823f3c1307a2/resource/d352810c-a22e-4d72-bb3b-33c742c799dd/download/desaparecidos3ago.zip\"\n",
    "desaparecidos_RNPDNO_archivo = \"desaparecidosRNPDNO.zip\"\n",
    "desaparecidos_corte_nacional_url = \"http://www.datamx.io/dataset/fdd2ca20-ee70-4a31-9bdf-823f3c1307a2/resource/4865e244-cf59-4d39-b863-96ed7f45cc70/download/nacional.json\"\n",
    "desaparecidos_corte_nacional_archivo = \"desaparecidos_nacional.json\"\n",
    "subdir = \"./DatosDesaparecidas/\""
   ]
  },
  {
   "cell_type": "code",
   "execution_count": 7,
   "metadata": {},
   "outputs": [],
   "source": [
    "if not os.path.exists(desaparecidos_RNPDNO_archivo):\n",
    "    if not os.path.exists(subdir):\n",
    "        os.makedirs(subdir)\n",
    "    urllib.request.urlretrieve(desaparecidos_RNPDNO_url, subdir + desaparecidos_RNPDNO_archivo)  \n",
    "    with zipfile.ZipFile(subdir + desaparecidos_RNPDNO_archivo, \"r\") as zip_ref:\n",
    "        zip_ref.extractall(subdir)\n",
    "    \n",
    "    urllib.request.urlretrieve(desaparecidos_corte_nacional_url, subdir + desaparecidos_corte_nacional_archivo)  \n",
    "    os.remove(subdir + desaparecidos_RNPDNO_archivo) #Eliminamos el archivo zip para quedarnos con el descomprimido\n",
    "\n",
    "\n",
    "    with open(subdir + \"info.txt\", 'w') as f:\n",
    "        f.write(\"Archivos sobre personas desaparecidas\\n\")\n",
    "        info = \"\"\"\n",
    "        Datos de desaparecidos, corte nacional y desagregación a nivel estatal, por edad, por sexo, \n",
    "        por nacionalidad, por año de desaparición y por mes de desaparición para los últimos 12 meses.\n",
    "\n",
    "        Los datos se obtuvieron del RNPDNO con fecha de 03 de agosto de 2021 (la base de datos se actualiza constantemente) \n",
    "\n",
    "        \"\"\" \n",
    "        f.write(info + '\\n')\n",
    "        f.write(\"Descargado el \" + datetime.datetime.now().strftime(\"%Y-%m-%d %H:%M:%S\") + \"\\n\")\n",
    "        f.write(\"Desde: \" + desaparecidos_RNPDNO_url + \"\\n\")\n",
    "        f.write(\"Nombre: \" + desaparecidos_RNPDNO_archivo + \"\\n\")\n",
    "        f.write(\"Agregados nacionales descargados desde: \" + desaparecidos_corte_nacional_url + \"\\n\")\n",
    "        f.write(\"Nombre: \" + desaparecidos_corte_nacional_archivo + \"\\n\")"
   ]
  },
  {
   "cell_type": "code",
   "execution_count": 8,
   "metadata": {},
   "outputs": [
    {
     "data": {
      "text/html": [
       "<div>\n",
       "<style scoped>\n",
       "    .dataframe tbody tr th:only-of-type {\n",
       "        vertical-align: middle;\n",
       "    }\n",
       "\n",
       "    .dataframe tbody tr th {\n",
       "        vertical-align: top;\n",
       "    }\n",
       "\n",
       "    .dataframe thead th {\n",
       "        text-align: right;\n",
       "    }\n",
       "</style>\n",
       "<table border=\"1\" class=\"dataframe\">\n",
       "  <thead>\n",
       "    <tr style=\"text-align: right;\">\n",
       "      <th></th>\n",
       "      <th>totales</th>\n",
       "      <th>espacial</th>\n",
       "      <th>anual</th>\n",
       "      <th>mensual_ultimo_anio</th>\n",
       "      <th>por_edad</th>\n",
       "      <th>por_nacionalidad</th>\n",
       "    </tr>\n",
       "  </thead>\n",
       "  <tbody>\n",
       "    <tr>\n",
       "      <th>PorcentajeDesaparecidos</th>\n",
       "      <td>40.61</td>\n",
       "      <td>NaN</td>\n",
       "      <td>NaN</td>\n",
       "      <td>NaN</td>\n",
       "      <td>NaN</td>\n",
       "      <td>NaN</td>\n",
       "    </tr>\n",
       "    <tr>\n",
       "      <th>PorcentajeLocalizados</th>\n",
       "      <td>59.39</td>\n",
       "      <td>NaN</td>\n",
       "      <td>NaN</td>\n",
       "      <td>NaN</td>\n",
       "      <td>NaN</td>\n",
       "      <td>NaN</td>\n",
       "    </tr>\n",
       "    <tr>\n",
       "      <th>PorcentajeLocalizadosCV</th>\n",
       "      <td>93.39</td>\n",
       "      <td>NaN</td>\n",
       "      <td>NaN</td>\n",
       "      <td>NaN</td>\n",
       "      <td>NaN</td>\n",
       "      <td>NaN</td>\n",
       "    </tr>\n",
       "    <tr>\n",
       "      <th>PorcentajeLocalizadosSV</th>\n",
       "      <td>6.61</td>\n",
       "      <td>NaN</td>\n",
       "      <td>NaN</td>\n",
       "      <td>NaN</td>\n",
       "      <td>NaN</td>\n",
       "      <td>NaN</td>\n",
       "    </tr>\n",
       "    <tr>\n",
       "      <th>PorcentajeSoloDesaparecidos</th>\n",
       "      <td>90.60</td>\n",
       "      <td>NaN</td>\n",
       "      <td>NaN</td>\n",
       "      <td>NaN</td>\n",
       "      <td>NaN</td>\n",
       "      <td>NaN</td>\n",
       "    </tr>\n",
       "  </tbody>\n",
       "</table>\n",
       "</div>"
      ],
      "text/plain": [
       "                             totales espacial anual mensual_ultimo_anio  \\\n",
       "PorcentajeDesaparecidos        40.61      NaN   NaN                 NaN   \n",
       "PorcentajeLocalizados          59.39      NaN   NaN                 NaN   \n",
       "PorcentajeLocalizadosCV        93.39      NaN   NaN                 NaN   \n",
       "PorcentajeLocalizadosSV         6.61      NaN   NaN                 NaN   \n",
       "PorcentajeSoloDesaparecidos    90.60      NaN   NaN                 NaN   \n",
       "\n",
       "                            por_edad por_nacionalidad  \n",
       "PorcentajeDesaparecidos          NaN              NaN  \n",
       "PorcentajeLocalizados            NaN              NaN  \n",
       "PorcentajeLocalizadosCV          NaN              NaN  \n",
       "PorcentajeLocalizadosSV          NaN              NaN  \n",
       "PorcentajeSoloDesaparecidos      NaN              NaN  "
      ]
     },
     "execution_count": 8,
     "metadata": {},
     "output_type": "execute_result"
    }
   ],
   "source": [
    "carpeta = \"C:/Users/diana/Desktop/Maestria/Ingenieria-de-caracteristicas/DescargandoDatos/DatosDesaparecidas/datos_procesados/delitos/\"\n",
    "archivoNombre=\"0.json\"\n",
    "df_desaparecidas = pd.read_json(carpeta + archivoNombre)\n",
    "df_desaparecidas.head()"
   ]
  },
  {
   "cell_type": "code",
   "execution_count": null,
   "metadata": {},
   "outputs": [],
   "source": []
  }
 ],
 "metadata": {
  "colab": {
   "name": "Copia de descarga_datos.ipynb",
   "provenance": []
  },
  "kernelspec": {
   "display_name": "Python 3",
   "language": "python",
   "name": "python3"
  },
  "language_info": {
   "codemirror_mode": {
    "name": "ipython",
    "version": 3
   },
   "file_extension": ".py",
   "mimetype": "text/x-python",
   "name": "python",
   "nbconvert_exporter": "python",
   "pygments_lexer": "ipython3",
   "version": "3.6.2"
  },
  "vscode": {
   "interpreter": {
    "hash": "266c02d0b88fb79ac68216b08bc6bf334e56f5daeb776843302a4ad1205260c4"
   }
  }
 },
 "nbformat": 4,
 "nbformat_minor": 1
}
