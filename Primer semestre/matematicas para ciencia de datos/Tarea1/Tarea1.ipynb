{
 "cells": [
  {
   "cell_type": "markdown",
   "metadata": {},
   "source": [
    "<center>\n",
    "<p><img src=\"https://mcd.unison.mx/wp-content/themes/awaken/img/logo_mcd.png\" width=\"150\">\n",
    "</p>\n",
    "\n",
    "<h1> Matemáticas para ciencia de datos</h1>\n",
    "\n",
    "#### Pofra. Dra. Olivia Gutú\n",
    "\n",
    "<h3>Tarea 1</h3>\n",
    "\n",
    "#### Diana Laura Ballesteros Valenzuela\n",
    "\n",
    "<img src=\"https://identidadbuho.unison.mx/wp-content/uploads/2019/06/letragrama-cmyk-72.jpg\" width=\"150\">\n",
    "\n",
    "</center>"
   ]
  },
  {
   "cell_type": "markdown",
   "metadata": {},
   "source": [
    "Importamos librerias necesarias"
   ]
  },
  {
   "cell_type": "code",
   "execution_count": 1,
   "metadata": {
    "id": "lLFP80GXBru2"
   },
   "outputs": [],
   "source": [
    "import pandas as pd\n",
    "import numpy as np\n",
    "import sympy"
   ]
  },
  {
   "cell_type": "markdown",
   "metadata": {},
   "source": [
    "#### Sea A una matriz de datos dada por el archivo dataset.csv"
   ]
  },
  {
   "cell_type": "code",
   "execution_count": 16,
   "metadata": {
    "id": "mPIVjhVHB33X"
   },
   "outputs": [],
   "source": [
    "A = pd.read_csv(\"dataset.csv\", header=None)"
   ]
  },
  {
   "cell_type": "markdown",
   "metadata": {},
   "source": [
    "- **Sospechamos que nuestra matriz de datos tiene columnas redundantes (se pueden ponercomo combinaciones lineales de las otras) por la naturaleza de su creacion, ¿cual es el maximo numero de columnas linealmente independiente que puede tener A?**"
   ]
  },
  {
   "cell_type": "code",
   "execution_count": 3,
   "metadata": {},
   "outputs": [
    {
     "data": {
      "text/plain": [
       "5"
      ]
     },
     "execution_count": 3,
     "metadata": {},
     "output_type": "execute_result"
    }
   ],
   "source": [
    "rank = np.linalg.matrix_rank(A)\n",
    "rank"
   ]
  },
  {
   "cell_type": "markdown",
   "metadata": {},
   "source": [
    "> R= Vemos que su rank es de 5, por lo tanto, su máximo numero de columnas linealmente independientes es 5."
   ]
  },
  {
   "cell_type": "markdown",
   "metadata": {},
   "source": [
    "- **Supon que quieres borrar de A las columnas que dependan linealmente de otras sin sacrificar la dimension de su rango (su rank). Una primera busqueda por el internet nos arroja la siguiente respuesta misteriosa muy relacionada aquı:**"
   ]
  },
  {
   "cell_type": "markdown",
   "metadata": {},
   "source": [
    "> [. . . ] One way to do what you want is to apply numpy.linalg.qr to the transpose, and check the non-zero components of the R matrix. The corresponding columns (in the transpose matrix, i.e., the rows in your original matrix) are independent."
   ]
  },
  {
   "cell_type": "markdown",
   "metadata": {},
   "source": [
    "Es decir, pide considerar la descomposion de A = QR, aquı Q es una matriz ortogonal (columnas y renglones ortogonales entre sı) y R una matriz triangular superior con las entradas debajo de la diagonal principal son cero. ¿Es correcta esta respuesta? Justifica tu respuesta con un contra-ejemplo o da una serie de razonamientos para justificar que la respuesta es correcta."
   ]
  },
  {
   "cell_type": "markdown",
   "metadata": {},
   "source": [
    "- **Elimina efectivamente de A las columnas que sean combinaciones lineales de otras. ¿Hay una sola manera de hacer esto? Identifica si te es posible las relaciones lineales de la columnas eliminadas respecto a las otras.**"
   ]
  },
  {
   "cell_type": "code",
   "execution_count": 4,
   "metadata": {
    "id": "944aIvi4HQ1-"
   },
   "outputs": [],
   "source": [
    "a=np.array(A)\n",
    "my_array = np.linalg.qr(a)[1]"
   ]
  },
  {
   "cell_type": "code",
   "execution_count": 5,
   "metadata": {
    "id": "qWHrLb-cItb6"
   },
   "outputs": [
    {
     "data": {
      "text/html": [
       "<div>\n",
       "<style scoped>\n",
       "    .dataframe tbody tr th:only-of-type {\n",
       "        vertical-align: middle;\n",
       "    }\n",
       "\n",
       "    .dataframe tbody tr th {\n",
       "        vertical-align: top;\n",
       "    }\n",
       "\n",
       "    .dataframe thead th {\n",
       "        text-align: right;\n",
       "    }\n",
       "</style>\n",
       "<table border=\"1\" class=\"dataframe\">\n",
       "  <thead>\n",
       "    <tr style=\"text-align: right;\">\n",
       "      <th></th>\n",
       "      <th>0</th>\n",
       "      <th>1</th>\n",
       "      <th>2</th>\n",
       "      <th>3</th>\n",
       "      <th>4</th>\n",
       "      <th>5</th>\n",
       "      <th>6</th>\n",
       "      <th>7</th>\n",
       "    </tr>\n",
       "  </thead>\n",
       "  <tbody>\n",
       "    <tr>\n",
       "      <th>0</th>\n",
       "      <td>-2405.0</td>\n",
       "      <td>-2404.0</td>\n",
       "      <td>-2460.0</td>\n",
       "      <td>-2283.0</td>\n",
       "      <td>-2387.0</td>\n",
       "      <td>-2404.0</td>\n",
       "      <td>-2424.0</td>\n",
       "      <td>-2395.0</td>\n",
       "    </tr>\n",
       "    <tr>\n",
       "      <th>1</th>\n",
       "      <td>0.0</td>\n",
       "      <td>-193.0</td>\n",
       "      <td>-207.0</td>\n",
       "      <td>-197.0</td>\n",
       "      <td>-244.0</td>\n",
       "      <td>-96.0</td>\n",
       "      <td>-226.0</td>\n",
       "      <td>-166.0</td>\n",
       "    </tr>\n",
       "    <tr>\n",
       "      <th>2</th>\n",
       "      <td>0.0</td>\n",
       "      <td>0.0</td>\n",
       "      <td>-181.0</td>\n",
       "      <td>-146.0</td>\n",
       "      <td>-200.0</td>\n",
       "      <td>-0.0</td>\n",
       "      <td>-191.0</td>\n",
       "      <td>-102.0</td>\n",
       "    </tr>\n",
       "    <tr>\n",
       "      <th>3</th>\n",
       "      <td>0.0</td>\n",
       "      <td>0.0</td>\n",
       "      <td>0.0</td>\n",
       "      <td>-214.0</td>\n",
       "      <td>-122.0</td>\n",
       "      <td>-0.0</td>\n",
       "      <td>-61.0</td>\n",
       "      <td>-57.0</td>\n",
       "    </tr>\n",
       "    <tr>\n",
       "      <th>4</th>\n",
       "      <td>0.0</td>\n",
       "      <td>0.0</td>\n",
       "      <td>0.0</td>\n",
       "      <td>0.0</td>\n",
       "      <td>-182.0</td>\n",
       "      <td>-0.0</td>\n",
       "      <td>-91.0</td>\n",
       "      <td>-39.0</td>\n",
       "    </tr>\n",
       "    <tr>\n",
       "      <th>5</th>\n",
       "      <td>0.0</td>\n",
       "      <td>0.0</td>\n",
       "      <td>0.0</td>\n",
       "      <td>0.0</td>\n",
       "      <td>0.0</td>\n",
       "      <td>0.0</td>\n",
       "      <td>0.0</td>\n",
       "      <td>0.0</td>\n",
       "    </tr>\n",
       "    <tr>\n",
       "      <th>6</th>\n",
       "      <td>0.0</td>\n",
       "      <td>0.0</td>\n",
       "      <td>0.0</td>\n",
       "      <td>0.0</td>\n",
       "      <td>0.0</td>\n",
       "      <td>0.0</td>\n",
       "      <td>0.0</td>\n",
       "      <td>0.0</td>\n",
       "    </tr>\n",
       "    <tr>\n",
       "      <th>7</th>\n",
       "      <td>0.0</td>\n",
       "      <td>0.0</td>\n",
       "      <td>0.0</td>\n",
       "      <td>0.0</td>\n",
       "      <td>0.0</td>\n",
       "      <td>0.0</td>\n",
       "      <td>0.0</td>\n",
       "      <td>0.0</td>\n",
       "    </tr>\n",
       "  </tbody>\n",
       "</table>\n",
       "</div>"
      ],
      "text/plain": [
       "        0       1       2       3       4       5       6       7\n",
       "0 -2405.0 -2404.0 -2460.0 -2283.0 -2387.0 -2404.0 -2424.0 -2395.0\n",
       "1     0.0  -193.0  -207.0  -197.0  -244.0   -96.0  -226.0  -166.0\n",
       "2     0.0     0.0  -181.0  -146.0  -200.0    -0.0  -191.0  -102.0\n",
       "3     0.0     0.0     0.0  -214.0  -122.0    -0.0   -61.0   -57.0\n",
       "4     0.0     0.0     0.0     0.0  -182.0    -0.0   -91.0   -39.0\n",
       "5     0.0     0.0     0.0     0.0     0.0     0.0     0.0     0.0\n",
       "6     0.0     0.0     0.0     0.0     0.0     0.0     0.0     0.0\n",
       "7     0.0     0.0     0.0     0.0     0.0     0.0     0.0     0.0"
      ]
     },
     "execution_count": 5,
     "metadata": {},
     "output_type": "execute_result"
    }
   ],
   "source": [
    "df2 = pd.DataFrame(my_array).round()\n",
    "df2"
   ]
  },
  {
   "cell_type": "markdown",
   "metadata": {
    "id": "_BgQOzegLItW"
   },
   "source": [
    "Podemos ver que podemos eliminar las columnas 6,7 y 8 ya que son redundantes"
   ]
  },
  {
   "cell_type": "markdown",
   "metadata": {},
   "source": [
    "- **Sea 1 el vector de solo unos en Rn. Para cada x ∈ Rn sea xcentered = x − µ1 donde µ es el promedio de los elementos de x (sample mean). Responde las siguientes preguntas:**\n"
   ]
  },
  {
   "cell_type": "markdown",
   "metadata": {},
   "source": [
    "**1.** Sea A_centered la matriz que resulta de centrar cada columna de A. ¿Que efecto geometrico tiene sobre A este procedimiento?"
   ]
  },
  {
   "cell_type": "markdown",
   "metadata": {},
   "source": [
    " - El efecto geometrico es que enviaria todo al cero"
   ]
  },
  {
   "cell_type": "markdown",
   "metadata": {},
   "source": [
    "**2.** Responde si x y y son dos columnas de A linealmente independientes, ¿tambien lo son x_centered y y_centered?"
   ]
  },
  {
   "cell_type": "code",
   "execution_count": 6,
   "metadata": {},
   "outputs": [
    {
     "name": "stdout",
     "output_type": "stream",
     "text": [
      "[]\n",
      "[]\n"
     ]
    }
   ],
   "source": [
    "matrixIndependiente = A[[0, 1, 2, 3, 4, 5]] #Usamos las columnas de A que solo son independientes\n",
    "df_centered = matrixIndependiente.apply(lambda x: x-x.mean())\n",
    "\n",
    "print(sympy.Matrix(matrixIndependiente.iloc[:, 0:-1].round()).nullspace())\n",
    "print(sympy.Matrix(df_centered.iloc[:, 0:-1].round()).nullspace())"
   ]
  },
  {
   "cell_type": "markdown",
   "metadata": {},
   "source": [
    "Todas las columnas de Acentered tambien son linealmente independientes"
   ]
  },
  {
   "cell_type": "markdown",
   "metadata": {},
   "source": [
    "**3.** Responde si x y y son dos columnas de A ortogonales, ¿tambien lo son x_centered y y_centered?"
   ]
  },
  {
   "cell_type": "markdown",
   "metadata": {},
   "source": [
    "> 📝 **NOTA**: Intente buscar columnas ortogonales en A y no hubo alguna pareja de columnas que me diera la matriz unitaria, por lo que tomare de ejemplo otra matriz para ver que me da de resultado"
   ]
  },
  {
   "cell_type": "markdown",
   "metadata": {},
   "source": [
    "Pongamos de ejemplo la matriz M"
   ]
  },
  {
   "cell_type": "code",
   "execution_count": 7,
   "metadata": {},
   "outputs": [],
   "source": [
    "A= pd.DataFrame(([[-1,0],[0,1]]))"
   ]
  },
  {
   "cell_type": "markdown",
   "metadata": {},
   "source": [
    "y veamos si es ortogonal"
   ]
  },
  {
   "cell_type": "code",
   "execution_count": 8,
   "metadata": {},
   "outputs": [],
   "source": [
    "matrix = np.array(A)"
   ]
  },
  {
   "cell_type": "code",
   "execution_count": 9,
   "metadata": {},
   "outputs": [
    {
     "data": {
      "text/html": [
       "<div>\n",
       "<style scoped>\n",
       "    .dataframe tbody tr th:only-of-type {\n",
       "        vertical-align: middle;\n",
       "    }\n",
       "\n",
       "    .dataframe tbody tr th {\n",
       "        vertical-align: top;\n",
       "    }\n",
       "\n",
       "    .dataframe thead th {\n",
       "        text-align: right;\n",
       "    }\n",
       "</style>\n",
       "<table border=\"1\" class=\"dataframe\">\n",
       "  <thead>\n",
       "    <tr style=\"text-align: right;\">\n",
       "      <th></th>\n",
       "      <th>0</th>\n",
       "      <th>1</th>\n",
       "    </tr>\n",
       "  </thead>\n",
       "  <tbody>\n",
       "    <tr>\n",
       "      <th>0</th>\n",
       "      <td>1</td>\n",
       "      <td>0</td>\n",
       "    </tr>\n",
       "    <tr>\n",
       "      <th>1</th>\n",
       "      <td>0</td>\n",
       "      <td>1</td>\n",
       "    </tr>\n",
       "  </tbody>\n",
       "</table>\n",
       "</div>"
      ],
      "text/plain": [
       "   0  1\n",
       "0  1  0\n",
       "1  0  1"
      ]
     },
     "execution_count": 9,
     "metadata": {},
     "output_type": "execute_result"
    }
   ],
   "source": [
    "res = pd.DataFrame(np.dot(matrix,matrix.transpose())).round()\n",
    "res"
   ]
  },
  {
   "cell_type": "markdown",
   "metadata": {},
   "source": [
    "Vemos que el producto punto de la matrix A por su transpuesta nos da la matriz identidad, por lo que si son ortogonales. Ahora saquemos x_centered y y_centered y veamos si su producto punto es igual a la identidad"
   ]
  },
  {
   "cell_type": "code",
   "execution_count": 10,
   "metadata": {},
   "outputs": [
    {
     "data": {
      "text/plain": [
       "array([[-0., -0.],\n",
       "       [ 0.,  0.]])"
      ]
     },
     "execution_count": 10,
     "metadata": {},
     "output_type": "execute_result"
    }
   ],
   "source": [
    "xy_centered = np.array(pd.DataFrame(A.apply(lambda x: x-x.mean())).round())\n",
    "xy_centered"
   ]
  },
  {
   "cell_type": "code",
   "execution_count": 11,
   "metadata": {},
   "outputs": [
    {
     "data": {
      "text/html": [
       "<div>\n",
       "<style scoped>\n",
       "    .dataframe tbody tr th:only-of-type {\n",
       "        vertical-align: middle;\n",
       "    }\n",
       "\n",
       "    .dataframe tbody tr th {\n",
       "        vertical-align: top;\n",
       "    }\n",
       "\n",
       "    .dataframe thead th {\n",
       "        text-align: right;\n",
       "    }\n",
       "</style>\n",
       "<table border=\"1\" class=\"dataframe\">\n",
       "  <thead>\n",
       "    <tr style=\"text-align: right;\">\n",
       "      <th></th>\n",
       "      <th>0</th>\n",
       "      <th>1</th>\n",
       "    </tr>\n",
       "  </thead>\n",
       "  <tbody>\n",
       "    <tr>\n",
       "      <th>0</th>\n",
       "      <td>0.0</td>\n",
       "      <td>0.0</td>\n",
       "    </tr>\n",
       "    <tr>\n",
       "      <th>1</th>\n",
       "      <td>0.0</td>\n",
       "      <td>0.0</td>\n",
       "    </tr>\n",
       "  </tbody>\n",
       "</table>\n",
       "</div>"
      ],
      "text/plain": [
       "     0    1\n",
       "0  0.0  0.0\n",
       "1  0.0  0.0"
      ]
     },
     "execution_count": 11,
     "metadata": {},
     "output_type": "execute_result"
    }
   ],
   "source": [
    "res = pd.DataFrame(np.dot(xy_centered,xy_centered.transpose())).round() #aplicamos producto punto y lo convertimos a dataframe para cuestiones esteticas\n",
    "res"
   ]
  },
  {
   "cell_type": "markdown",
   "metadata": {},
   "source": [
    "> Vemos que x_entered y y_centered no son ortogonales ya que como resultado NO tenemos la matriz identidad"
   ]
  },
  {
   "cell_type": "markdown",
   "metadata": {},
   "source": [
    "4. ¿Cual es la media de cualquier vector x_centered ?"
   ]
  },
  {
   "cell_type": "code",
   "execution_count": 12,
   "metadata": {},
   "outputs": [
    {
     "name": "stdout",
     "output_type": "stream",
     "text": [
      "0.0\n",
      "-0.0\n"
     ]
    }
   ],
   "source": [
    "# la respuesta es 0 y para cada vector de A\n",
    "for x in range(0, A.shape[1]):\n",
    "    print(np.mean(df_centered[x]).round())"
   ]
  },
  {
   "cell_type": "markdown",
   "metadata": {},
   "source": [
    "5. Para cada x, encuentra el vector unitario con direccion x_centered"
   ]
  },
  {
   "cell_type": "code",
   "execution_count": 13,
   "metadata": {},
   "outputs": [
    {
     "name": "stdout",
     "output_type": "stream",
     "text": [
      "2.9309887850104133e-18\n",
      "-6.8389738316909645e-18\n"
     ]
    }
   ],
   "source": [
    "# la respuesta es 0 y para cada vector de A\n",
    "for x in range(0, A.shape[1]):\n",
    "    print(np.mean(df_centered[x] / np.linalg.norm(df_centered[x])))"
   ]
  },
  {
   "cell_type": "markdown",
   "metadata": {},
   "source": [
    "- **Encuentra, si existe, la/una combinacion lineal de las primeras 2 columnas mas cercana a la columna numero 6.**"
   ]
  },
  {
   "cell_type": "code",
   "execution_count": 17,
   "metadata": {},
   "outputs": [
    {
     "data": {
      "text/plain": [
       "array([[0.5],\n",
       "       [0.5]])"
      ]
     },
     "execution_count": 17,
     "metadata": {},
     "output_type": "execute_result"
    }
   ],
   "source": [
    "primeras2columnas = np.array(A[[0,1]]) #Filtramos las columnas que queremos\n",
    "columna6 = np.array(A[[5]]) #Filtramos las columnas que queremos\n",
    "unodos = np.column_stack((primeras2columnas))\n",
    "\n",
    "# Ax=B\n",
    "# x = A^-1*b\n",
    "pseudoInversa = np.linalg.pinv(primeras2columnas)\n",
    "x = np.dot(pseudoInversa,columna6)\n",
    "x"
   ]
  },
  {
   "cell_type": "markdown",
   "metadata": {},
   "source": [
    "Haz lo mismo pero con las primeras 3, 4 y 5 columnas. En cada caso decide si la respuesta existe y es unica.\n"
   ]
  },
  {
   "cell_type": "code",
   "execution_count": 18,
   "metadata": {},
   "outputs": [
    {
     "data": {
      "text/plain": [
       "array([[0.4570231],\n",
       "       [0.5556962]])"
      ]
     },
     "execution_count": 18,
     "metadata": {},
     "output_type": "execute_result"
    }
   ],
   "source": [
    "columnas34 = np.array(A[[2,3]]) #Filtramos las columnas que queremos\n",
    "trescuatro = np.column_stack((columnas34))\n",
    "columna5 = np.array(A[[4]]) #Filtramos las columnas que queremos\n",
    "\n",
    "pseudoInversa = np.linalg.pinv(columnas34)\n",
    "x = np.dot(pseudoInversa,columna5)\n",
    "x"
   ]
  }
 ],
 "metadata": {
  "colab": {
   "provenance": []
  },
  "kernelspec": {
   "display_name": "Python 3",
   "language": "python",
   "name": "python3"
  },
  "language_info": {
   "codemirror_mode": {
    "name": "ipython",
    "version": 3
   },
   "file_extension": ".py",
   "mimetype": "text/x-python",
   "name": "python",
   "nbconvert_exporter": "python",
   "pygments_lexer": "ipython3",
   "version": "3.6.2"
  }
 },
 "nbformat": 4,
 "nbformat_minor": 1
}
