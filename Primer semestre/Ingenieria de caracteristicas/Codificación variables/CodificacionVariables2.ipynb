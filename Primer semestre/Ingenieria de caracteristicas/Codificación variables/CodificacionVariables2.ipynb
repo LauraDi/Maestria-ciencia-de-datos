{
 "cells": [
  {
   "cell_type": "markdown",
   "id": "1ec0a19c",
   "metadata": {},
   "source": [
    "<center>\n",
    "<p><img src=\"https://mcd.unison.mx/wp-content/themes/awaken/img/logo_mcd.png\" width=\"150\">\n",
    "</p>\n",
    "    \n",
    "<h3>Curso Ingeniería de Características</h3>\n",
    "\n",
    "<h2>Codificación de variables cualitativas en R</h2>\n",
    "\n",
    "<h4> Alumna: Diana Laura Ballesteros Valenzuela</h4>\n",
    "\n",
    "<p>\n",
    "<img src=\"https://identidadbuho.unison.mx/wp-content/uploads/2019/06/letragrama-cmyk-72.jpg\" width=\"150\">\n",
    "</p>\n",
    "    \n",
    "</center>"
   ]
  },
  {
   "cell_type": "markdown",
   "id": "f8e5779b",
   "metadata": {},
   "source": [
    "# One hot encoding"
   ]
  },
  {
   "cell_type": "markdown",
   "id": "b65388a5",
   "metadata": {},
   "source": [
    "> **¿Qué es una codificación one-hot?**\n",
    "\n",
    "> Los datos categóricos se refieren a variables que están formadas por valores de etiquetas, por ejemplo, una variable \"color\" podría tener los valores \"rojo\", \"azul\" y \"verde\". Piense en los valores como en diferentes categorías que a veces tienen un orden natural.\n",
    "\n",
    ">Algunos algoritmos de aprendizaje automático pueden trabajar directamente con datos categóricos dependiendo de la implementación, como un árbol de decisión, pero la mayoría requiere que cualquier variable de entrada o salida sea un número, o de valor numérico. Esto significa que cualquier dato categórico debe ser mapeado a números enteros.\n",
    "\n",
    "> La codificación en un momento dado es un método de conversión de datos para prepararlos para un algoritmo y obtener una mejor predicción. Con one-hot, convertimos cada valor categórico en una nueva columna categórica y asignamos un valor binario de 1 o 0 a esas columnas. Cada valor entero se representa como un vector binario. Todos los valores son cero, y el índice se marca con un 1.\n"
   ]
  },
  {
   "cell_type": "markdown",
   "id": "f489d550",
   "metadata": {},
   "source": [
    "Importamos librerias necesarias"
   ]
  },
  {
   "cell_type": "code",
   "execution_count": 43,
   "id": "35c6fb91",
   "metadata": {},
   "outputs": [
    {
     "name": "stderr",
     "output_type": "stream",
     "text": [
      "Registered S3 methods overwritten by 'ggplot2':\n",
      "  method         from \n",
      "  [.quosures     rlang\n",
      "  c.quosures     rlang\n",
      "  print.quosures rlang\n",
      "Registered S3 method overwritten by 'rvest':\n",
      "  method            from\n",
      "  read_xml.response xml2\n",
      "-- Attaching packages --------------------------------------- tidyverse 1.2.1 --\n",
      "v ggplot2 3.1.1       v purrr   0.3.4  \n",
      "v tibble  2.1.1       v dplyr   0.8.0.1\n",
      "v tidyr   0.8.3       v stringr 1.4.0  \n",
      "v readr   1.3.1       v forcats 0.4.0  \n",
      "Warning message:\n",
      "\"package 'purrr' was built under R version 3.6.3\"-- Conflicts ------------------------------------------ tidyverse_conflicts() --\n",
      "x dplyr::between()   masks data.table::between()\n",
      "x dplyr::filter()    masks stats::filter()\n",
      "x dplyr::first()     masks data.table::first()\n",
      "x dplyr::lag()       masks stats::lag()\n",
      "x dplyr::last()      masks data.table::last()\n",
      "x purrr::map()       masks maps::map()\n",
      "x purrr::transpose() masks data.table::transpose()\n"
     ]
    }
   ],
   "source": [
    "library(tidyverse)"
   ]
  },
  {
   "cell_type": "markdown",
   "id": "7bb0d452",
   "metadata": {},
   "source": [
    "## Create the Data"
   ]
  },
  {
   "cell_type": "markdown",
   "id": "9a82f833",
   "metadata": {},
   "source": [
    "Poblaremos un dataframe con datos de \n",
    "- id, \n",
    "- peso, \n",
    "- altura, \n",
    "- raza y \n",
    "- vacuna \n",
    "\n",
    "aplicada a 15 perros de una veterinaria hipotética para ejemplificar una codificacion one-hot."
   ]
  },
  {
   "cell_type": "code",
   "execution_count": 44,
   "id": "ba4dad7c",
   "metadata": {},
   "outputs": [
    {
     "data": {
      "text/html": [
       "<table>\n",
       "<thead><tr><th scope=col>id</th><th scope=col>peso</th><th scope=col>altura</th><th scope=col>raza</th><th scope=col>vacuna</th></tr></thead>\n",
       "<tbody>\n",
       "\t<tr><td> 1       </td><td>1988.4   </td><td>24.5     </td><td>bulldog  </td><td>beta     </td></tr>\n",
       "\t<tr><td> 2       </td><td>2070.0   </td><td>54.9     </td><td>Husky    </td><td>beta     </td></tr>\n",
       "\t<tr><td> 3       </td><td>2063.3   </td><td>43.5     </td><td>Husky    </td><td>beta     </td></tr>\n",
       "\t<tr><td> 4       </td><td>1759.0   </td><td>51.4     </td><td>Husky    </td><td>alfa     </td></tr>\n",
       "\t<tr><td> 5       </td><td>2123.1   </td><td>20.8     </td><td>Husky    </td><td>beta     </td></tr>\n",
       "\t<tr><td> 6       </td><td>1825.3   </td><td>24.0     </td><td>Chihuahua</td><td>beta     </td></tr>\n",
       "\t<tr><td> 7       </td><td>2205.3   </td><td>37.2     </td><td>Chihuahua</td><td>alfa     </td></tr>\n",
       "\t<tr><td> 8       </td><td>1822.6   </td><td>13.9     </td><td>Chihuahua</td><td>beta     </td></tr>\n",
       "\t<tr><td> 9       </td><td>1608.1   </td><td>23.5     </td><td>Husky    </td><td>alfa     </td></tr>\n",
       "\t<tr><td>10       </td><td>1717.8   </td><td>22.7     </td><td>Husky    </td><td>beta     </td></tr>\n",
       "\t<tr><td>11       </td><td>2206.2   </td><td>32.7     </td><td>Chihuahua</td><td>beta     </td></tr>\n",
       "\t<tr><td>12       </td><td>1950.3   </td><td>30.1     </td><td>Husky    </td><td>alfa     </td></tr>\n",
       "\t<tr><td>13       </td><td>2191.8   </td><td>39.1     </td><td>Husky    </td><td>beta     </td></tr>\n",
       "\t<tr><td>14       </td><td>2176.5   </td><td>38.2     </td><td>Husky    </td><td>beta     </td></tr>\n",
       "\t<tr><td>15       </td><td>2060.8   </td><td>41.8     </td><td>bulldog  </td><td>beta     </td></tr>\n",
       "</tbody>\n",
       "</table>\n"
      ],
      "text/latex": [
       "\\begin{tabular}{r|lllll}\n",
       " id & peso & altura & raza & vacuna\\\\\n",
       "\\hline\n",
       "\t  1        & 1988.4    & 24.5      & bulldog   & beta     \\\\\n",
       "\t  2        & 2070.0    & 54.9      & Husky     & beta     \\\\\n",
       "\t  3        & 2063.3    & 43.5      & Husky     & beta     \\\\\n",
       "\t  4        & 1759.0    & 51.4      & Husky     & alfa     \\\\\n",
       "\t  5        & 2123.1    & 20.8      & Husky     & beta     \\\\\n",
       "\t  6        & 1825.3    & 24.0      & Chihuahua & beta     \\\\\n",
       "\t  7        & 2205.3    & 37.2      & Chihuahua & alfa     \\\\\n",
       "\t  8        & 1822.6    & 13.9      & Chihuahua & beta     \\\\\n",
       "\t  9        & 1608.1    & 23.5      & Husky     & alfa     \\\\\n",
       "\t 10        & 1717.8    & 22.7      & Husky     & beta     \\\\\n",
       "\t 11        & 2206.2    & 32.7      & Chihuahua & beta     \\\\\n",
       "\t 12        & 1950.3    & 30.1      & Husky     & alfa     \\\\\n",
       "\t 13        & 2191.8    & 39.1      & Husky     & beta     \\\\\n",
       "\t 14        & 2176.5    & 38.2      & Husky     & beta     \\\\\n",
       "\t 15        & 2060.8    & 41.8      & bulldog   & beta     \\\\\n",
       "\\end{tabular}\n"
      ],
      "text/markdown": [
       "\n",
       "| id | peso | altura | raza | vacuna |\n",
       "|---|---|---|---|---|\n",
       "|  1        | 1988.4    | 24.5      | bulldog   | beta      |\n",
       "|  2        | 2070.0    | 54.9      | Husky     | beta      |\n",
       "|  3        | 2063.3    | 43.5      | Husky     | beta      |\n",
       "|  4        | 1759.0    | 51.4      | Husky     | alfa      |\n",
       "|  5        | 2123.1    | 20.8      | Husky     | beta      |\n",
       "|  6        | 1825.3    | 24.0      | Chihuahua | beta      |\n",
       "|  7        | 2205.3    | 37.2      | Chihuahua | alfa      |\n",
       "|  8        | 1822.6    | 13.9      | Chihuahua | beta      |\n",
       "|  9        | 1608.1    | 23.5      | Husky     | alfa      |\n",
       "| 10        | 1717.8    | 22.7      | Husky     | beta      |\n",
       "| 11        | 2206.2    | 32.7      | Chihuahua | beta      |\n",
       "| 12        | 1950.3    | 30.1      | Husky     | alfa      |\n",
       "| 13        | 2191.8    | 39.1      | Husky     | beta      |\n",
       "| 14        | 2176.5    | 38.2      | Husky     | beta      |\n",
       "| 15        | 2060.8    | 41.8      | bulldog   | beta      |\n",
       "\n"
      ],
      "text/plain": [
       "   id peso   altura raza      vacuna\n",
       "1   1 1988.4 24.5   bulldog   beta  \n",
       "2   2 2070.0 54.9   Husky     beta  \n",
       "3   3 2063.3 43.5   Husky     beta  \n",
       "4   4 1759.0 51.4   Husky     alfa  \n",
       "5   5 2123.1 20.8   Husky     beta  \n",
       "6   6 1825.3 24.0   Chihuahua beta  \n",
       "7   7 2205.3 37.2   Chihuahua alfa  \n",
       "8   8 1822.6 13.9   Chihuahua beta  \n",
       "9   9 1608.1 23.5   Husky     alfa  \n",
       "10 10 1717.8 22.7   Husky     beta  \n",
       "11 11 2206.2 32.7   Chihuahua beta  \n",
       "12 12 1950.3 30.1   Husky     alfa  \n",
       "13 13 2191.8 39.1   Husky     beta  \n",
       "14 14 2176.5 38.2   Husky     beta  \n",
       "15 15 2060.8 41.8   bulldog   beta  "
      ]
     },
     "metadata": {},
     "output_type": "display_data"
    }
   ],
   "source": [
    "set.seed(1986)\n",
    "perros <- \n",
    "  data.frame(\n",
    "    id = 1:15,\n",
    "    peso = round(rnorm(n = 15, mean = 2000, sd = 250), 1),\n",
    "    altura  = round(rnorm(n = 15, mean = 30, sd = 10), 1), \n",
    "    raza = sample(x = c(\"Chihuahua\", \"bulldog\", \"Husky\"), size = 15, \n",
    "                     replace = TRUE),\n",
    "    vacuna = sample(x = c(\"alfa\", \"beta\"), size = 15, replace = TRUE)\n",
    "  )\n",
    "perros"
   ]
  },
  {
   "cell_type": "markdown",
   "id": "60d6d4c9",
   "metadata": {},
   "source": [
    "Nuestro objetivo será transformar la información de dos variables, raza, y vac a variables dummy (one-hot encoding)."
   ]
  },
  {
   "cell_type": "code",
   "execution_count": 45,
   "id": "144fb5ce",
   "metadata": {},
   "outputs": [
    {
     "data": {
      "text/html": [
       "<table>\n",
       "<thead><tr><th scope=col>id</th><th scope=col>peso</th><th scope=col>altura</th><th scope=col>raza</th><th scope=col>vacuna</th></tr></thead>\n",
       "<tbody>\n",
       "\t<tr><td> 1            </td><td>1988.4        </td><td>24.5          </td><td>raza_bulldog  </td><td>beta          </td></tr>\n",
       "\t<tr><td> 2            </td><td>2070.0        </td><td>54.9          </td><td>raza_Husky    </td><td>beta          </td></tr>\n",
       "\t<tr><td> 3            </td><td>2063.3        </td><td>43.5          </td><td>raza_Husky    </td><td>beta          </td></tr>\n",
       "\t<tr><td> 4            </td><td>1759.0        </td><td>51.4          </td><td>raza_Husky    </td><td>alfa          </td></tr>\n",
       "\t<tr><td> 5            </td><td>2123.1        </td><td>20.8          </td><td>raza_Husky    </td><td>beta          </td></tr>\n",
       "\t<tr><td> 6            </td><td>1825.3        </td><td>24.0          </td><td>raza_Chihuahua</td><td>beta          </td></tr>\n",
       "\t<tr><td> 7            </td><td>2205.3        </td><td>37.2          </td><td>raza_Chihuahua</td><td>alfa          </td></tr>\n",
       "\t<tr><td> 8            </td><td>1822.6        </td><td>13.9          </td><td>raza_Chihuahua</td><td>beta          </td></tr>\n",
       "\t<tr><td> 9            </td><td>1608.1        </td><td>23.5          </td><td>raza_Husky    </td><td>alfa          </td></tr>\n",
       "\t<tr><td>10            </td><td>1717.8        </td><td>22.7          </td><td>raza_Husky    </td><td>beta          </td></tr>\n",
       "\t<tr><td>11            </td><td>2206.2        </td><td>32.7          </td><td>raza_Chihuahua</td><td>beta          </td></tr>\n",
       "\t<tr><td>12            </td><td>1950.3        </td><td>30.1          </td><td>raza_Husky    </td><td>alfa          </td></tr>\n",
       "\t<tr><td>13            </td><td>2191.8        </td><td>39.1          </td><td>raza_Husky    </td><td>beta          </td></tr>\n",
       "\t<tr><td>14            </td><td>2176.5        </td><td>38.2          </td><td>raza_Husky    </td><td>beta          </td></tr>\n",
       "\t<tr><td>15            </td><td>2060.8        </td><td>41.8          </td><td>raza_bulldog  </td><td>beta          </td></tr>\n",
       "</tbody>\n",
       "</table>\n"
      ],
      "text/latex": [
       "\\begin{tabular}{r|lllll}\n",
       " id & peso & altura & raza & vacuna\\\\\n",
       "\\hline\n",
       "\t  1               & 1988.4           & 24.5             & raza\\_bulldog   & beta            \\\\\n",
       "\t  2               & 2070.0           & 54.9             & raza\\_Husky     & beta            \\\\\n",
       "\t  3               & 2063.3           & 43.5             & raza\\_Husky     & beta            \\\\\n",
       "\t  4               & 1759.0           & 51.4             & raza\\_Husky     & alfa            \\\\\n",
       "\t  5               & 2123.1           & 20.8             & raza\\_Husky     & beta            \\\\\n",
       "\t  6               & 1825.3           & 24.0             & raza\\_Chihuahua & beta            \\\\\n",
       "\t  7               & 2205.3           & 37.2             & raza\\_Chihuahua & alfa            \\\\\n",
       "\t  8               & 1822.6           & 13.9             & raza\\_Chihuahua & beta            \\\\\n",
       "\t  9               & 1608.1           & 23.5             & raza\\_Husky     & alfa            \\\\\n",
       "\t 10               & 1717.8           & 22.7             & raza\\_Husky     & beta            \\\\\n",
       "\t 11               & 2206.2           & 32.7             & raza\\_Chihuahua & beta            \\\\\n",
       "\t 12               & 1950.3           & 30.1             & raza\\_Husky     & alfa            \\\\\n",
       "\t 13               & 2191.8           & 39.1             & raza\\_Husky     & beta            \\\\\n",
       "\t 14               & 2176.5           & 38.2             & raza\\_Husky     & beta            \\\\\n",
       "\t 15               & 2060.8           & 41.8             & raza\\_bulldog   & beta            \\\\\n",
       "\\end{tabular}\n"
      ],
      "text/markdown": [
       "\n",
       "| id | peso | altura | raza | vacuna |\n",
       "|---|---|---|---|---|\n",
       "|  1             | 1988.4         | 24.5           | raza_bulldog   | beta           |\n",
       "|  2             | 2070.0         | 54.9           | raza_Husky     | beta           |\n",
       "|  3             | 2063.3         | 43.5           | raza_Husky     | beta           |\n",
       "|  4             | 1759.0         | 51.4           | raza_Husky     | alfa           |\n",
       "|  5             | 2123.1         | 20.8           | raza_Husky     | beta           |\n",
       "|  6             | 1825.3         | 24.0           | raza_Chihuahua | beta           |\n",
       "|  7             | 2205.3         | 37.2           | raza_Chihuahua | alfa           |\n",
       "|  8             | 1822.6         | 13.9           | raza_Chihuahua | beta           |\n",
       "|  9             | 1608.1         | 23.5           | raza_Husky     | alfa           |\n",
       "| 10             | 1717.8         | 22.7           | raza_Husky     | beta           |\n",
       "| 11             | 2206.2         | 32.7           | raza_Chihuahua | beta           |\n",
       "| 12             | 1950.3         | 30.1           | raza_Husky     | alfa           |\n",
       "| 13             | 2191.8         | 39.1           | raza_Husky     | beta           |\n",
       "| 14             | 2176.5         | 38.2           | raza_Husky     | beta           |\n",
       "| 15             | 2060.8         | 41.8           | raza_bulldog   | beta           |\n",
       "\n"
      ],
      "text/plain": [
       "   id peso   altura raza           vacuna\n",
       "1   1 1988.4 24.5   raza_bulldog   beta  \n",
       "2   2 2070.0 54.9   raza_Husky     beta  \n",
       "3   3 2063.3 43.5   raza_Husky     beta  \n",
       "4   4 1759.0 51.4   raza_Husky     alfa  \n",
       "5   5 2123.1 20.8   raza_Husky     beta  \n",
       "6   6 1825.3 24.0   raza_Chihuahua beta  \n",
       "7   7 2205.3 37.2   raza_Chihuahua alfa  \n",
       "8   8 1822.6 13.9   raza_Chihuahua beta  \n",
       "9   9 1608.1 23.5   raza_Husky     alfa  \n",
       "10 10 1717.8 22.7   raza_Husky     beta  \n",
       "11 11 2206.2 32.7   raza_Chihuahua beta  \n",
       "12 12 1950.3 30.1   raza_Husky     alfa  \n",
       "13 13 2191.8 39.1   raza_Husky     beta  \n",
       "14 14 2176.5 38.2   raza_Husky     beta  \n",
       "15 15 2060.8 41.8   raza_bulldog   beta  "
      ]
     },
     "metadata": {},
     "output_type": "display_data"
    }
   ],
   "source": [
    "perros %>% \n",
    "  mutate(raza = paste(\"raza\", raza, sep = \"_\"))"
   ]
  },
  {
   "cell_type": "markdown",
   "id": "4a764d9a",
   "metadata": {},
   "source": [
    "Ahora creamos una columna llamada valor_raza, que llenamos con unos. De este modo indicaremos la presencia de esta variable al convertir la columna raza en varias dummy. Hacemos lo mismo con la columna vac."
   ]
  },
  {
   "cell_type": "code",
   "execution_count": 46,
   "id": "990eec51",
   "metadata": {},
   "outputs": [
    {
     "data": {
      "text/html": [
       "<table>\n",
       "<thead><tr><th scope=col>id</th><th scope=col>peso</th><th scope=col>altura</th><th scope=col>raza</th><th scope=col>vacuna</th><th scope=col>valor_raza</th><th scope=col>valor_vac</th></tr></thead>\n",
       "<tbody>\n",
       "\t<tr><td> 1            </td><td>1988.4        </td><td>24.5          </td><td>raza_bulldog  </td><td>vac_beta      </td><td>1             </td><td>1             </td></tr>\n",
       "\t<tr><td> 2            </td><td>2070.0        </td><td>54.9          </td><td>raza_Husky    </td><td>vac_beta      </td><td>1             </td><td>1             </td></tr>\n",
       "\t<tr><td> 3            </td><td>2063.3        </td><td>43.5          </td><td>raza_Husky    </td><td>vac_beta      </td><td>1             </td><td>1             </td></tr>\n",
       "\t<tr><td> 4            </td><td>1759.0        </td><td>51.4          </td><td>raza_Husky    </td><td>vac_alfa      </td><td>1             </td><td>1             </td></tr>\n",
       "\t<tr><td> 5            </td><td>2123.1        </td><td>20.8          </td><td>raza_Husky    </td><td>vac_beta      </td><td>1             </td><td>1             </td></tr>\n",
       "\t<tr><td> 6            </td><td>1825.3        </td><td>24.0          </td><td>raza_Chihuahua</td><td>vac_beta      </td><td>1             </td><td>1             </td></tr>\n",
       "\t<tr><td> 7            </td><td>2205.3        </td><td>37.2          </td><td>raza_Chihuahua</td><td>vac_alfa      </td><td>1             </td><td>1             </td></tr>\n",
       "\t<tr><td> 8            </td><td>1822.6        </td><td>13.9          </td><td>raza_Chihuahua</td><td>vac_beta      </td><td>1             </td><td>1             </td></tr>\n",
       "\t<tr><td> 9            </td><td>1608.1        </td><td>23.5          </td><td>raza_Husky    </td><td>vac_alfa      </td><td>1             </td><td>1             </td></tr>\n",
       "\t<tr><td>10            </td><td>1717.8        </td><td>22.7          </td><td>raza_Husky    </td><td>vac_beta      </td><td>1             </td><td>1             </td></tr>\n",
       "\t<tr><td>11            </td><td>2206.2        </td><td>32.7          </td><td>raza_Chihuahua</td><td>vac_beta      </td><td>1             </td><td>1             </td></tr>\n",
       "\t<tr><td>12            </td><td>1950.3        </td><td>30.1          </td><td>raza_Husky    </td><td>vac_alfa      </td><td>1             </td><td>1             </td></tr>\n",
       "\t<tr><td>13            </td><td>2191.8        </td><td>39.1          </td><td>raza_Husky    </td><td>vac_beta      </td><td>1             </td><td>1             </td></tr>\n",
       "\t<tr><td>14            </td><td>2176.5        </td><td>38.2          </td><td>raza_Husky    </td><td>vac_beta      </td><td>1             </td><td>1             </td></tr>\n",
       "\t<tr><td>15            </td><td>2060.8        </td><td>41.8          </td><td>raza_bulldog  </td><td>vac_beta      </td><td>1             </td><td>1             </td></tr>\n",
       "</tbody>\n",
       "</table>\n"
      ],
      "text/latex": [
       "\\begin{tabular}{r|lllllll}\n",
       " id & peso & altura & raza & vacuna & valor\\_raza & valor\\_vac\\\\\n",
       "\\hline\n",
       "\t  1               & 1988.4           & 24.5             & raza\\_bulldog   & vac\\_beta       & 1                & 1               \\\\\n",
       "\t  2               & 2070.0           & 54.9             & raza\\_Husky     & vac\\_beta       & 1                & 1               \\\\\n",
       "\t  3               & 2063.3           & 43.5             & raza\\_Husky     & vac\\_beta       & 1                & 1               \\\\\n",
       "\t  4               & 1759.0           & 51.4             & raza\\_Husky     & vac\\_alfa       & 1                & 1               \\\\\n",
       "\t  5               & 2123.1           & 20.8             & raza\\_Husky     & vac\\_beta       & 1                & 1               \\\\\n",
       "\t  6               & 1825.3           & 24.0             & raza\\_Chihuahua & vac\\_beta       & 1                & 1               \\\\\n",
       "\t  7               & 2205.3           & 37.2             & raza\\_Chihuahua & vac\\_alfa       & 1                & 1               \\\\\n",
       "\t  8               & 1822.6           & 13.9             & raza\\_Chihuahua & vac\\_beta       & 1                & 1               \\\\\n",
       "\t  9               & 1608.1           & 23.5             & raza\\_Husky     & vac\\_alfa       & 1                & 1               \\\\\n",
       "\t 10               & 1717.8           & 22.7             & raza\\_Husky     & vac\\_beta       & 1                & 1               \\\\\n",
       "\t 11               & 2206.2           & 32.7             & raza\\_Chihuahua & vac\\_beta       & 1                & 1               \\\\\n",
       "\t 12               & 1950.3           & 30.1             & raza\\_Husky     & vac\\_alfa       & 1                & 1               \\\\\n",
       "\t 13               & 2191.8           & 39.1             & raza\\_Husky     & vac\\_beta       & 1                & 1               \\\\\n",
       "\t 14               & 2176.5           & 38.2             & raza\\_Husky     & vac\\_beta       & 1                & 1               \\\\\n",
       "\t 15               & 2060.8           & 41.8             & raza\\_bulldog   & vac\\_beta       & 1                & 1               \\\\\n",
       "\\end{tabular}\n"
      ],
      "text/markdown": [
       "\n",
       "| id | peso | altura | raza | vacuna | valor_raza | valor_vac |\n",
       "|---|---|---|---|---|---|---|\n",
       "|  1             | 1988.4         | 24.5           | raza_bulldog   | vac_beta       | 1              | 1              |\n",
       "|  2             | 2070.0         | 54.9           | raza_Husky     | vac_beta       | 1              | 1              |\n",
       "|  3             | 2063.3         | 43.5           | raza_Husky     | vac_beta       | 1              | 1              |\n",
       "|  4             | 1759.0         | 51.4           | raza_Husky     | vac_alfa       | 1              | 1              |\n",
       "|  5             | 2123.1         | 20.8           | raza_Husky     | vac_beta       | 1              | 1              |\n",
       "|  6             | 1825.3         | 24.0           | raza_Chihuahua | vac_beta       | 1              | 1              |\n",
       "|  7             | 2205.3         | 37.2           | raza_Chihuahua | vac_alfa       | 1              | 1              |\n",
       "|  8             | 1822.6         | 13.9           | raza_Chihuahua | vac_beta       | 1              | 1              |\n",
       "|  9             | 1608.1         | 23.5           | raza_Husky     | vac_alfa       | 1              | 1              |\n",
       "| 10             | 1717.8         | 22.7           | raza_Husky     | vac_beta       | 1              | 1              |\n",
       "| 11             | 2206.2         | 32.7           | raza_Chihuahua | vac_beta       | 1              | 1              |\n",
       "| 12             | 1950.3         | 30.1           | raza_Husky     | vac_alfa       | 1              | 1              |\n",
       "| 13             | 2191.8         | 39.1           | raza_Husky     | vac_beta       | 1              | 1              |\n",
       "| 14             | 2176.5         | 38.2           | raza_Husky     | vac_beta       | 1              | 1              |\n",
       "| 15             | 2060.8         | 41.8           | raza_bulldog   | vac_beta       | 1              | 1              |\n",
       "\n"
      ],
      "text/plain": [
       "   id peso   altura raza           vacuna   valor_raza valor_vac\n",
       "1   1 1988.4 24.5   raza_bulldog   vac_beta 1          1        \n",
       "2   2 2070.0 54.9   raza_Husky     vac_beta 1          1        \n",
       "3   3 2063.3 43.5   raza_Husky     vac_beta 1          1        \n",
       "4   4 1759.0 51.4   raza_Husky     vac_alfa 1          1        \n",
       "5   5 2123.1 20.8   raza_Husky     vac_beta 1          1        \n",
       "6   6 1825.3 24.0   raza_Chihuahua vac_beta 1          1        \n",
       "7   7 2205.3 37.2   raza_Chihuahua vac_alfa 1          1        \n",
       "8   8 1822.6 13.9   raza_Chihuahua vac_beta 1          1        \n",
       "9   9 1608.1 23.5   raza_Husky     vac_alfa 1          1        \n",
       "10 10 1717.8 22.7   raza_Husky     vac_beta 1          1        \n",
       "11 11 2206.2 32.7   raza_Chihuahua vac_beta 1          1        \n",
       "12 12 1950.3 30.1   raza_Husky     vac_alfa 1          1        \n",
       "13 13 2191.8 39.1   raza_Husky     vac_beta 1          1        \n",
       "14 14 2176.5 38.2   raza_Husky     vac_beta 1          1        \n",
       "15 15 2060.8 41.8   raza_bulldog   vac_beta 1          1        "
      ]
     },
     "metadata": {},
     "output_type": "display_data"
    }
   ],
   "source": [
    "perros %>% \n",
    "  mutate(raza = paste(\"raza\", raza, sep = \"_\"),\n",
    "         valor_raza = 1,\n",
    "         vacuna = paste(\"vac\", vacuna, sep = \"_\"),\n",
    "         valor_vac = 1\n",
    "         )"
   ]
  },
  {
   "cell_type": "markdown",
   "id": "072f828b",
   "metadata": {},
   "source": [
    "Finalmente usamos la función spread para convertir las columnas raza y vacuna en múltiples columnas. Esta función hace una transposición, convirtiendo datos altos a datos anchos.\n",
    "\n",
    "spread nos pide dos argumentos, \n",
    "- **key**: es el nombre de la columna que se usará para nombrar a las nuevas columnas,\n",
    "- **value**: es el valor que estas tendrán."
   ]
  },
  {
   "cell_type": "code",
   "execution_count": 47,
   "id": "fc7541e6",
   "metadata": {},
   "outputs": [
    {
     "data": {
      "text/html": [
       "<table>\n",
       "<thead><tr><th scope=col>id</th><th scope=col>peso</th><th scope=col>altura</th><th scope=col>vacuna</th><th scope=col>valor_vac</th><th scope=col>raza_bulldog</th><th scope=col>raza_Chihuahua</th><th scope=col>raza_Husky</th></tr></thead>\n",
       "<tbody>\n",
       "\t<tr><td> 1      </td><td>1988.4  </td><td>24.5    </td><td>vac_beta</td><td>1       </td><td> 1      </td><td>NA      </td><td>NA      </td></tr>\n",
       "\t<tr><td> 2      </td><td>2070.0  </td><td>54.9    </td><td>vac_beta</td><td>1       </td><td>NA      </td><td>NA      </td><td> 1      </td></tr>\n",
       "\t<tr><td> 3      </td><td>2063.3  </td><td>43.5    </td><td>vac_beta</td><td>1       </td><td>NA      </td><td>NA      </td><td> 1      </td></tr>\n",
       "\t<tr><td> 4      </td><td>1759.0  </td><td>51.4    </td><td>vac_alfa</td><td>1       </td><td>NA      </td><td>NA      </td><td> 1      </td></tr>\n",
       "\t<tr><td> 5      </td><td>2123.1  </td><td>20.8    </td><td>vac_beta</td><td>1       </td><td>NA      </td><td>NA      </td><td> 1      </td></tr>\n",
       "\t<tr><td> 6      </td><td>1825.3  </td><td>24.0    </td><td>vac_beta</td><td>1       </td><td>NA      </td><td> 1      </td><td>NA      </td></tr>\n",
       "\t<tr><td> 7      </td><td>2205.3  </td><td>37.2    </td><td>vac_alfa</td><td>1       </td><td>NA      </td><td> 1      </td><td>NA      </td></tr>\n",
       "\t<tr><td> 8      </td><td>1822.6  </td><td>13.9    </td><td>vac_beta</td><td>1       </td><td>NA      </td><td> 1      </td><td>NA      </td></tr>\n",
       "\t<tr><td> 9      </td><td>1608.1  </td><td>23.5    </td><td>vac_alfa</td><td>1       </td><td>NA      </td><td>NA      </td><td> 1      </td></tr>\n",
       "\t<tr><td>10      </td><td>1717.8  </td><td>22.7    </td><td>vac_beta</td><td>1       </td><td>NA      </td><td>NA      </td><td> 1      </td></tr>\n",
       "\t<tr><td>11      </td><td>2206.2  </td><td>32.7    </td><td>vac_beta</td><td>1       </td><td>NA      </td><td> 1      </td><td>NA      </td></tr>\n",
       "\t<tr><td>12      </td><td>1950.3  </td><td>30.1    </td><td>vac_alfa</td><td>1       </td><td>NA      </td><td>NA      </td><td> 1      </td></tr>\n",
       "\t<tr><td>13      </td><td>2191.8  </td><td>39.1    </td><td>vac_beta</td><td>1       </td><td>NA      </td><td>NA      </td><td> 1      </td></tr>\n",
       "\t<tr><td>14      </td><td>2176.5  </td><td>38.2    </td><td>vac_beta</td><td>1       </td><td>NA      </td><td>NA      </td><td> 1      </td></tr>\n",
       "\t<tr><td>15      </td><td>2060.8  </td><td>41.8    </td><td>vac_beta</td><td>1       </td><td> 1      </td><td>NA      </td><td>NA      </td></tr>\n",
       "</tbody>\n",
       "</table>\n"
      ],
      "text/latex": [
       "\\begin{tabular}{r|llllllll}\n",
       " id & peso & altura & vacuna & valor\\_vac & raza\\_bulldog & raza\\_Chihuahua & raza\\_Husky\\\\\n",
       "\\hline\n",
       "\t  1         & 1988.4     & 24.5       & vac\\_beta & 1          &  1         & NA         & NA        \\\\\n",
       "\t  2         & 2070.0     & 54.9       & vac\\_beta & 1          & NA         & NA         &  1        \\\\\n",
       "\t  3         & 2063.3     & 43.5       & vac\\_beta & 1          & NA         & NA         &  1        \\\\\n",
       "\t  4         & 1759.0     & 51.4       & vac\\_alfa & 1          & NA         & NA         &  1        \\\\\n",
       "\t  5         & 2123.1     & 20.8       & vac\\_beta & 1          & NA         & NA         &  1        \\\\\n",
       "\t  6         & 1825.3     & 24.0       & vac\\_beta & 1          & NA         &  1         & NA        \\\\\n",
       "\t  7         & 2205.3     & 37.2       & vac\\_alfa & 1          & NA         &  1         & NA        \\\\\n",
       "\t  8         & 1822.6     & 13.9       & vac\\_beta & 1          & NA         &  1         & NA        \\\\\n",
       "\t  9         & 1608.1     & 23.5       & vac\\_alfa & 1          & NA         & NA         &  1        \\\\\n",
       "\t 10         & 1717.8     & 22.7       & vac\\_beta & 1          & NA         & NA         &  1        \\\\\n",
       "\t 11         & 2206.2     & 32.7       & vac\\_beta & 1          & NA         &  1         & NA        \\\\\n",
       "\t 12         & 1950.3     & 30.1       & vac\\_alfa & 1          & NA         & NA         &  1        \\\\\n",
       "\t 13         & 2191.8     & 39.1       & vac\\_beta & 1          & NA         & NA         &  1        \\\\\n",
       "\t 14         & 2176.5     & 38.2       & vac\\_beta & 1          & NA         & NA         &  1        \\\\\n",
       "\t 15         & 2060.8     & 41.8       & vac\\_beta & 1          &  1         & NA         & NA        \\\\\n",
       "\\end{tabular}\n"
      ],
      "text/markdown": [
       "\n",
       "| id | peso | altura | vacuna | valor_vac | raza_bulldog | raza_Chihuahua | raza_Husky |\n",
       "|---|---|---|---|---|---|---|---|\n",
       "|  1       | 1988.4   | 24.5     | vac_beta | 1        |  1       | NA       | NA       |\n",
       "|  2       | 2070.0   | 54.9     | vac_beta | 1        | NA       | NA       |  1       |\n",
       "|  3       | 2063.3   | 43.5     | vac_beta | 1        | NA       | NA       |  1       |\n",
       "|  4       | 1759.0   | 51.4     | vac_alfa | 1        | NA       | NA       |  1       |\n",
       "|  5       | 2123.1   | 20.8     | vac_beta | 1        | NA       | NA       |  1       |\n",
       "|  6       | 1825.3   | 24.0     | vac_beta | 1        | NA       |  1       | NA       |\n",
       "|  7       | 2205.3   | 37.2     | vac_alfa | 1        | NA       |  1       | NA       |\n",
       "|  8       | 1822.6   | 13.9     | vac_beta | 1        | NA       |  1       | NA       |\n",
       "|  9       | 1608.1   | 23.5     | vac_alfa | 1        | NA       | NA       |  1       |\n",
       "| 10       | 1717.8   | 22.7     | vac_beta | 1        | NA       | NA       |  1       |\n",
       "| 11       | 2206.2   | 32.7     | vac_beta | 1        | NA       |  1       | NA       |\n",
       "| 12       | 1950.3   | 30.1     | vac_alfa | 1        | NA       | NA       |  1       |\n",
       "| 13       | 2191.8   | 39.1     | vac_beta | 1        | NA       | NA       |  1       |\n",
       "| 14       | 2176.5   | 38.2     | vac_beta | 1        | NA       | NA       |  1       |\n",
       "| 15       | 2060.8   | 41.8     | vac_beta | 1        |  1       | NA       | NA       |\n",
       "\n"
      ],
      "text/plain": [
       "   id peso   altura vacuna   valor_vac raza_bulldog raza_Chihuahua raza_Husky\n",
       "1   1 1988.4 24.5   vac_beta 1          1           NA             NA        \n",
       "2   2 2070.0 54.9   vac_beta 1         NA           NA              1        \n",
       "3   3 2063.3 43.5   vac_beta 1         NA           NA              1        \n",
       "4   4 1759.0 51.4   vac_alfa 1         NA           NA              1        \n",
       "5   5 2123.1 20.8   vac_beta 1         NA           NA              1        \n",
       "6   6 1825.3 24.0   vac_beta 1         NA            1             NA        \n",
       "7   7 2205.3 37.2   vac_alfa 1         NA            1             NA        \n",
       "8   8 1822.6 13.9   vac_beta 1         NA            1             NA        \n",
       "9   9 1608.1 23.5   vac_alfa 1         NA           NA              1        \n",
       "10 10 1717.8 22.7   vac_beta 1         NA           NA              1        \n",
       "11 11 2206.2 32.7   vac_beta 1         NA            1             NA        \n",
       "12 12 1950.3 30.1   vac_alfa 1         NA           NA              1        \n",
       "13 13 2191.8 39.1   vac_beta 1         NA           NA              1        \n",
       "14 14 2176.5 38.2   vac_beta 1         NA           NA              1        \n",
       "15 15 2060.8 41.8   vac_beta 1          1           NA             NA        "
      ]
     },
     "metadata": {},
     "output_type": "display_data"
    }
   ],
   "source": [
    "perros %>% \n",
    "  mutate(raza = paste(\"raza\", raza, sep = \"_\"),\n",
    "         valor_raza = 1,\n",
    "         vacuna = paste(\"vac\", vacuna, sep = \"_\"),\n",
    "         valor_vac = 1\n",
    "         ) %>% \n",
    "  spread(key = raza, value = valor_raza)"
   ]
  },
  {
   "cell_type": "markdown",
   "id": "8693a2e3",
   "metadata": {},
   "source": [
    "Hacemos los mismo con vacuna"
   ]
  },
  {
   "cell_type": "code",
   "execution_count": 48,
   "id": "307ec483",
   "metadata": {},
   "outputs": [
    {
     "data": {
      "text/html": [
       "<table>\n",
       "<thead><tr><th scope=col>id</th><th scope=col>peso</th><th scope=col>altura</th><th scope=col>raza_bulldog</th><th scope=col>raza_Chihuahua</th><th scope=col>raza_Husky</th><th scope=col>vac_alfa</th><th scope=col>vac_beta</th></tr></thead>\n",
       "<tbody>\n",
       "\t<tr><td> 1    </td><td>1988.4</td><td>24.5  </td><td> 1    </td><td>NA    </td><td>NA    </td><td>NA    </td><td> 1    </td></tr>\n",
       "\t<tr><td> 2    </td><td>2070.0</td><td>54.9  </td><td>NA    </td><td>NA    </td><td> 1    </td><td>NA    </td><td> 1    </td></tr>\n",
       "\t<tr><td> 3    </td><td>2063.3</td><td>43.5  </td><td>NA    </td><td>NA    </td><td> 1    </td><td>NA    </td><td> 1    </td></tr>\n",
       "\t<tr><td> 4    </td><td>1759.0</td><td>51.4  </td><td>NA    </td><td>NA    </td><td> 1    </td><td> 1    </td><td>NA    </td></tr>\n",
       "\t<tr><td> 5    </td><td>2123.1</td><td>20.8  </td><td>NA    </td><td>NA    </td><td> 1    </td><td>NA    </td><td> 1    </td></tr>\n",
       "\t<tr><td> 6    </td><td>1825.3</td><td>24.0  </td><td>NA    </td><td> 1    </td><td>NA    </td><td>NA    </td><td> 1    </td></tr>\n",
       "\t<tr><td> 7    </td><td>2205.3</td><td>37.2  </td><td>NA    </td><td> 1    </td><td>NA    </td><td> 1    </td><td>NA    </td></tr>\n",
       "\t<tr><td> 8    </td><td>1822.6</td><td>13.9  </td><td>NA    </td><td> 1    </td><td>NA    </td><td>NA    </td><td> 1    </td></tr>\n",
       "\t<tr><td> 9    </td><td>1608.1</td><td>23.5  </td><td>NA    </td><td>NA    </td><td> 1    </td><td> 1    </td><td>NA    </td></tr>\n",
       "\t<tr><td>10    </td><td>1717.8</td><td>22.7  </td><td>NA    </td><td>NA    </td><td> 1    </td><td>NA    </td><td> 1    </td></tr>\n",
       "\t<tr><td>11    </td><td>2206.2</td><td>32.7  </td><td>NA    </td><td> 1    </td><td>NA    </td><td>NA    </td><td> 1    </td></tr>\n",
       "\t<tr><td>12    </td><td>1950.3</td><td>30.1  </td><td>NA    </td><td>NA    </td><td> 1    </td><td> 1    </td><td>NA    </td></tr>\n",
       "\t<tr><td>13    </td><td>2191.8</td><td>39.1  </td><td>NA    </td><td>NA    </td><td> 1    </td><td>NA    </td><td> 1    </td></tr>\n",
       "\t<tr><td>14    </td><td>2176.5</td><td>38.2  </td><td>NA    </td><td>NA    </td><td> 1    </td><td>NA    </td><td> 1    </td></tr>\n",
       "\t<tr><td>15    </td><td>2060.8</td><td>41.8  </td><td> 1    </td><td>NA    </td><td>NA    </td><td>NA    </td><td> 1    </td></tr>\n",
       "</tbody>\n",
       "</table>\n"
      ],
      "text/latex": [
       "\\begin{tabular}{r|llllllll}\n",
       " id & peso & altura & raza\\_bulldog & raza\\_Chihuahua & raza\\_Husky & vac\\_alfa & vac\\_beta\\\\\n",
       "\\hline\n",
       "\t  1     & 1988.4 & 24.5   &  1     & NA     & NA     & NA     &  1    \\\\\n",
       "\t  2     & 2070.0 & 54.9   & NA     & NA     &  1     & NA     &  1    \\\\\n",
       "\t  3     & 2063.3 & 43.5   & NA     & NA     &  1     & NA     &  1    \\\\\n",
       "\t  4     & 1759.0 & 51.4   & NA     & NA     &  1     &  1     & NA    \\\\\n",
       "\t  5     & 2123.1 & 20.8   & NA     & NA     &  1     & NA     &  1    \\\\\n",
       "\t  6     & 1825.3 & 24.0   & NA     &  1     & NA     & NA     &  1    \\\\\n",
       "\t  7     & 2205.3 & 37.2   & NA     &  1     & NA     &  1     & NA    \\\\\n",
       "\t  8     & 1822.6 & 13.9   & NA     &  1     & NA     & NA     &  1    \\\\\n",
       "\t  9     & 1608.1 & 23.5   & NA     & NA     &  1     &  1     & NA    \\\\\n",
       "\t 10     & 1717.8 & 22.7   & NA     & NA     &  1     & NA     &  1    \\\\\n",
       "\t 11     & 2206.2 & 32.7   & NA     &  1     & NA     & NA     &  1    \\\\\n",
       "\t 12     & 1950.3 & 30.1   & NA     & NA     &  1     &  1     & NA    \\\\\n",
       "\t 13     & 2191.8 & 39.1   & NA     & NA     &  1     & NA     &  1    \\\\\n",
       "\t 14     & 2176.5 & 38.2   & NA     & NA     &  1     & NA     &  1    \\\\\n",
       "\t 15     & 2060.8 & 41.8   &  1     & NA     & NA     & NA     &  1    \\\\\n",
       "\\end{tabular}\n"
      ],
      "text/markdown": [
       "\n",
       "| id | peso | altura | raza_bulldog | raza_Chihuahua | raza_Husky | vac_alfa | vac_beta |\n",
       "|---|---|---|---|---|---|---|---|\n",
       "|  1     | 1988.4 | 24.5   |  1     | NA     | NA     | NA     |  1     |\n",
       "|  2     | 2070.0 | 54.9   | NA     | NA     |  1     | NA     |  1     |\n",
       "|  3     | 2063.3 | 43.5   | NA     | NA     |  1     | NA     |  1     |\n",
       "|  4     | 1759.0 | 51.4   | NA     | NA     |  1     |  1     | NA     |\n",
       "|  5     | 2123.1 | 20.8   | NA     | NA     |  1     | NA     |  1     |\n",
       "|  6     | 1825.3 | 24.0   | NA     |  1     | NA     | NA     |  1     |\n",
       "|  7     | 2205.3 | 37.2   | NA     |  1     | NA     |  1     | NA     |\n",
       "|  8     | 1822.6 | 13.9   | NA     |  1     | NA     | NA     |  1     |\n",
       "|  9     | 1608.1 | 23.5   | NA     | NA     |  1     |  1     | NA     |\n",
       "| 10     | 1717.8 | 22.7   | NA     | NA     |  1     | NA     |  1     |\n",
       "| 11     | 2206.2 | 32.7   | NA     |  1     | NA     | NA     |  1     |\n",
       "| 12     | 1950.3 | 30.1   | NA     | NA     |  1     |  1     | NA     |\n",
       "| 13     | 2191.8 | 39.1   | NA     | NA     |  1     | NA     |  1     |\n",
       "| 14     | 2176.5 | 38.2   | NA     | NA     |  1     | NA     |  1     |\n",
       "| 15     | 2060.8 | 41.8   |  1     | NA     | NA     | NA     |  1     |\n",
       "\n"
      ],
      "text/plain": [
       "   id peso   altura raza_bulldog raza_Chihuahua raza_Husky vac_alfa vac_beta\n",
       "1   1 1988.4 24.5    1           NA             NA         NA        1      \n",
       "2   2 2070.0 54.9   NA           NA              1         NA        1      \n",
       "3   3 2063.3 43.5   NA           NA              1         NA        1      \n",
       "4   4 1759.0 51.4   NA           NA              1          1       NA      \n",
       "5   5 2123.1 20.8   NA           NA              1         NA        1      \n",
       "6   6 1825.3 24.0   NA            1             NA         NA        1      \n",
       "7   7 2205.3 37.2   NA            1             NA          1       NA      \n",
       "8   8 1822.6 13.9   NA            1             NA         NA        1      \n",
       "9   9 1608.1 23.5   NA           NA              1          1       NA      \n",
       "10 10 1717.8 22.7   NA           NA              1         NA        1      \n",
       "11 11 2206.2 32.7   NA            1             NA         NA        1      \n",
       "12 12 1950.3 30.1   NA           NA              1          1       NA      \n",
       "13 13 2191.8 39.1   NA           NA              1         NA        1      \n",
       "14 14 2176.5 38.2   NA           NA              1         NA        1      \n",
       "15 15 2060.8 41.8    1           NA             NA         NA        1      "
      ]
     },
     "metadata": {},
     "output_type": "display_data"
    }
   ],
   "source": [
    "perros %>% \n",
    "  mutate(raza = paste(\"raza\", raza, sep = \"_\"),\n",
    "         valor_raza = 1,\n",
    "         vacuna = paste(\"vac\", vacuna, sep = \"_\"),\n",
    "         valor_vac = 1\n",
    "         ) %>% \n",
    "  spread(key = raza, value = valor_raza) %>% \n",
    "  spread(key = vacuna, value = valor_vac)"
   ]
  },
  {
   "cell_type": "markdown",
   "id": "928697e2",
   "metadata": {},
   "source": [
    "Nuestras variables están casi listas. Tenemos que cambiar los NA por 0."
   ]
  },
  {
   "cell_type": "code",
   "execution_count": 49,
   "id": "04550c19",
   "metadata": {},
   "outputs": [
    {
     "data": {
      "text/html": [
       "<table>\n",
       "<thead><tr><th scope=col>id</th><th scope=col>peso</th><th scope=col>altura</th><th scope=col>raza_bulldog</th><th scope=col>raza_Chihuahua</th><th scope=col>raza_Husky</th><th scope=col>vac_alfa</th><th scope=col>vac_beta</th></tr></thead>\n",
       "<tbody>\n",
       "\t<tr><td> 1    </td><td>1988.4</td><td>24.5  </td><td>1     </td><td>0     </td><td>0     </td><td>0     </td><td>1     </td></tr>\n",
       "\t<tr><td> 2    </td><td>2070.0</td><td>54.9  </td><td>0     </td><td>0     </td><td>1     </td><td>0     </td><td>1     </td></tr>\n",
       "\t<tr><td> 3    </td><td>2063.3</td><td>43.5  </td><td>0     </td><td>0     </td><td>1     </td><td>0     </td><td>1     </td></tr>\n",
       "\t<tr><td> 4    </td><td>1759.0</td><td>51.4  </td><td>0     </td><td>0     </td><td>1     </td><td>1     </td><td>0     </td></tr>\n",
       "\t<tr><td> 5    </td><td>2123.1</td><td>20.8  </td><td>0     </td><td>0     </td><td>1     </td><td>0     </td><td>1     </td></tr>\n",
       "\t<tr><td> 6    </td><td>1825.3</td><td>24.0  </td><td>0     </td><td>1     </td><td>0     </td><td>0     </td><td>1     </td></tr>\n",
       "\t<tr><td> 7    </td><td>2205.3</td><td>37.2  </td><td>0     </td><td>1     </td><td>0     </td><td>1     </td><td>0     </td></tr>\n",
       "\t<tr><td> 8    </td><td>1822.6</td><td>13.9  </td><td>0     </td><td>1     </td><td>0     </td><td>0     </td><td>1     </td></tr>\n",
       "\t<tr><td> 9    </td><td>1608.1</td><td>23.5  </td><td>0     </td><td>0     </td><td>1     </td><td>1     </td><td>0     </td></tr>\n",
       "\t<tr><td>10    </td><td>1717.8</td><td>22.7  </td><td>0     </td><td>0     </td><td>1     </td><td>0     </td><td>1     </td></tr>\n",
       "\t<tr><td>11    </td><td>2206.2</td><td>32.7  </td><td>0     </td><td>1     </td><td>0     </td><td>0     </td><td>1     </td></tr>\n",
       "\t<tr><td>12    </td><td>1950.3</td><td>30.1  </td><td>0     </td><td>0     </td><td>1     </td><td>1     </td><td>0     </td></tr>\n",
       "\t<tr><td>13    </td><td>2191.8</td><td>39.1  </td><td>0     </td><td>0     </td><td>1     </td><td>0     </td><td>1     </td></tr>\n",
       "\t<tr><td>14    </td><td>2176.5</td><td>38.2  </td><td>0     </td><td>0     </td><td>1     </td><td>0     </td><td>1     </td></tr>\n",
       "\t<tr><td>15    </td><td>2060.8</td><td>41.8  </td><td>1     </td><td>0     </td><td>0     </td><td>0     </td><td>1     </td></tr>\n",
       "</tbody>\n",
       "</table>\n"
      ],
      "text/latex": [
       "\\begin{tabular}{r|llllllll}\n",
       " id & peso & altura & raza\\_bulldog & raza\\_Chihuahua & raza\\_Husky & vac\\_alfa & vac\\_beta\\\\\n",
       "\\hline\n",
       "\t  1     & 1988.4 & 24.5   & 1      & 0      & 0      & 0      & 1     \\\\\n",
       "\t  2     & 2070.0 & 54.9   & 0      & 0      & 1      & 0      & 1     \\\\\n",
       "\t  3     & 2063.3 & 43.5   & 0      & 0      & 1      & 0      & 1     \\\\\n",
       "\t  4     & 1759.0 & 51.4   & 0      & 0      & 1      & 1      & 0     \\\\\n",
       "\t  5     & 2123.1 & 20.8   & 0      & 0      & 1      & 0      & 1     \\\\\n",
       "\t  6     & 1825.3 & 24.0   & 0      & 1      & 0      & 0      & 1     \\\\\n",
       "\t  7     & 2205.3 & 37.2   & 0      & 1      & 0      & 1      & 0     \\\\\n",
       "\t  8     & 1822.6 & 13.9   & 0      & 1      & 0      & 0      & 1     \\\\\n",
       "\t  9     & 1608.1 & 23.5   & 0      & 0      & 1      & 1      & 0     \\\\\n",
       "\t 10     & 1717.8 & 22.7   & 0      & 0      & 1      & 0      & 1     \\\\\n",
       "\t 11     & 2206.2 & 32.7   & 0      & 1      & 0      & 0      & 1     \\\\\n",
       "\t 12     & 1950.3 & 30.1   & 0      & 0      & 1      & 1      & 0     \\\\\n",
       "\t 13     & 2191.8 & 39.1   & 0      & 0      & 1      & 0      & 1     \\\\\n",
       "\t 14     & 2176.5 & 38.2   & 0      & 0      & 1      & 0      & 1     \\\\\n",
       "\t 15     & 2060.8 & 41.8   & 1      & 0      & 0      & 0      & 1     \\\\\n",
       "\\end{tabular}\n"
      ],
      "text/markdown": [
       "\n",
       "| id | peso | altura | raza_bulldog | raza_Chihuahua | raza_Husky | vac_alfa | vac_beta |\n",
       "|---|---|---|---|---|---|---|---|\n",
       "|  1     | 1988.4 | 24.5   | 1      | 0      | 0      | 0      | 1      |\n",
       "|  2     | 2070.0 | 54.9   | 0      | 0      | 1      | 0      | 1      |\n",
       "|  3     | 2063.3 | 43.5   | 0      | 0      | 1      | 0      | 1      |\n",
       "|  4     | 1759.0 | 51.4   | 0      | 0      | 1      | 1      | 0      |\n",
       "|  5     | 2123.1 | 20.8   | 0      | 0      | 1      | 0      | 1      |\n",
       "|  6     | 1825.3 | 24.0   | 0      | 1      | 0      | 0      | 1      |\n",
       "|  7     | 2205.3 | 37.2   | 0      | 1      | 0      | 1      | 0      |\n",
       "|  8     | 1822.6 | 13.9   | 0      | 1      | 0      | 0      | 1      |\n",
       "|  9     | 1608.1 | 23.5   | 0      | 0      | 1      | 1      | 0      |\n",
       "| 10     | 1717.8 | 22.7   | 0      | 0      | 1      | 0      | 1      |\n",
       "| 11     | 2206.2 | 32.7   | 0      | 1      | 0      | 0      | 1      |\n",
       "| 12     | 1950.3 | 30.1   | 0      | 0      | 1      | 1      | 0      |\n",
       "| 13     | 2191.8 | 39.1   | 0      | 0      | 1      | 0      | 1      |\n",
       "| 14     | 2176.5 | 38.2   | 0      | 0      | 1      | 0      | 1      |\n",
       "| 15     | 2060.8 | 41.8   | 1      | 0      | 0      | 0      | 1      |\n",
       "\n"
      ],
      "text/plain": [
       "   id peso   altura raza_bulldog raza_Chihuahua raza_Husky vac_alfa vac_beta\n",
       "1   1 1988.4 24.5   1            0              0          0        1       \n",
       "2   2 2070.0 54.9   0            0              1          0        1       \n",
       "3   3 2063.3 43.5   0            0              1          0        1       \n",
       "4   4 1759.0 51.4   0            0              1          1        0       \n",
       "5   5 2123.1 20.8   0            0              1          0        1       \n",
       "6   6 1825.3 24.0   0            1              0          0        1       \n",
       "7   7 2205.3 37.2   0            1              0          1        0       \n",
       "8   8 1822.6 13.9   0            1              0          0        1       \n",
       "9   9 1608.1 23.5   0            0              1          1        0       \n",
       "10 10 1717.8 22.7   0            0              1          0        1       \n",
       "11 11 2206.2 32.7   0            1              0          0        1       \n",
       "12 12 1950.3 30.1   0            0              1          1        0       \n",
       "13 13 2191.8 39.1   0            0              1          0        1       \n",
       "14 14 2176.5 38.2   0            0              1          0        1       \n",
       "15 15 2060.8 41.8   1            0              0          0        1       "
      ]
     },
     "metadata": {},
     "output_type": "display_data"
    }
   ],
   "source": [
    "perros %>% \n",
    "  mutate(raza = paste(\"raza\", raza, sep = \"_\"),\n",
    "         valor_raza = 1,\n",
    "         vacuna = paste(\"vac\", vacuna, sep = \"_\"),\n",
    "         valor_vac = 1\n",
    "         ) %>% \n",
    "  spread(key = raza, value = valor_raza, fill = 0) %>% \n",
    "  spread(key = vacuna, value = valor_vac, fill = 0)"
   ]
  },
  {
   "cell_type": "markdown",
   "id": "851a6cd0",
   "metadata": {},
   "source": [
    "El resultado anterior está bien si queremos transformar en dummy una variable a la vez, pero es poco práctica para realizar múltiples transformaciones."
   ]
  },
  {
   "cell_type": "markdown",
   "id": "387da930",
   "metadata": {},
   "source": [
    "A continuación, utilicemos la función dummyVars() del paquete caret para realizar una codificación de una sola vez en todo nuestro dataframe:"
   ]
  },
  {
   "cell_type": "markdown",
   "id": "54bdc260",
   "metadata": {},
   "source": [
    "Importamos libreria necesaria"
   ]
  },
  {
   "cell_type": "code",
   "execution_count": 50,
   "id": "5fc12828",
   "metadata": {},
   "outputs": [
    {
     "name": "stderr",
     "output_type": "stream",
     "text": [
      "Loading required package: lattice\n",
      "\n",
      "Attaching package: 'caret'\n",
      "\n",
      "The following object is masked from 'package:purrr':\n",
      "\n",
      "    lift\n",
      "\n"
     ]
    }
   ],
   "source": [
    "library(caret)"
   ]
  },
  {
   "cell_type": "code",
   "execution_count": 51,
   "id": "3dd0586f",
   "metadata": {},
   "outputs": [
    {
     "data": {
      "text/html": [
       "<table>\n",
       "<thead><tr><th scope=col>id</th><th scope=col>peso</th><th scope=col>altura</th><th scope=col>raza.bulldog</th><th scope=col>raza.Chihuahua</th><th scope=col>raza.Husky</th><th scope=col>vacuna.alfa</th><th scope=col>vacuna.beta</th></tr></thead>\n",
       "<tbody>\n",
       "\t<tr><td> 1    </td><td>1988.4</td><td>24.5  </td><td>1     </td><td>0     </td><td>0     </td><td>0     </td><td>1     </td></tr>\n",
       "\t<tr><td> 2    </td><td>2070.0</td><td>54.9  </td><td>0     </td><td>0     </td><td>1     </td><td>0     </td><td>1     </td></tr>\n",
       "\t<tr><td> 3    </td><td>2063.3</td><td>43.5  </td><td>0     </td><td>0     </td><td>1     </td><td>0     </td><td>1     </td></tr>\n",
       "\t<tr><td> 4    </td><td>1759.0</td><td>51.4  </td><td>0     </td><td>0     </td><td>1     </td><td>1     </td><td>0     </td></tr>\n",
       "\t<tr><td> 5    </td><td>2123.1</td><td>20.8  </td><td>0     </td><td>0     </td><td>1     </td><td>0     </td><td>1     </td></tr>\n",
       "\t<tr><td> 6    </td><td>1825.3</td><td>24.0  </td><td>0     </td><td>1     </td><td>0     </td><td>0     </td><td>1     </td></tr>\n",
       "\t<tr><td> 7    </td><td>2205.3</td><td>37.2  </td><td>0     </td><td>1     </td><td>0     </td><td>1     </td><td>0     </td></tr>\n",
       "\t<tr><td> 8    </td><td>1822.6</td><td>13.9  </td><td>0     </td><td>1     </td><td>0     </td><td>0     </td><td>1     </td></tr>\n",
       "\t<tr><td> 9    </td><td>1608.1</td><td>23.5  </td><td>0     </td><td>0     </td><td>1     </td><td>1     </td><td>0     </td></tr>\n",
       "\t<tr><td>10    </td><td>1717.8</td><td>22.7  </td><td>0     </td><td>0     </td><td>1     </td><td>0     </td><td>1     </td></tr>\n",
       "\t<tr><td>11    </td><td>2206.2</td><td>32.7  </td><td>0     </td><td>1     </td><td>0     </td><td>0     </td><td>1     </td></tr>\n",
       "\t<tr><td>12    </td><td>1950.3</td><td>30.1  </td><td>0     </td><td>0     </td><td>1     </td><td>1     </td><td>0     </td></tr>\n",
       "\t<tr><td>13    </td><td>2191.8</td><td>39.1  </td><td>0     </td><td>0     </td><td>1     </td><td>0     </td><td>1     </td></tr>\n",
       "\t<tr><td>14    </td><td>2176.5</td><td>38.2  </td><td>0     </td><td>0     </td><td>1     </td><td>0     </td><td>1     </td></tr>\n",
       "\t<tr><td>15    </td><td>2060.8</td><td>41.8  </td><td>1     </td><td>0     </td><td>0     </td><td>0     </td><td>1     </td></tr>\n",
       "</tbody>\n",
       "</table>\n"
      ],
      "text/latex": [
       "\\begin{tabular}{r|llllllll}\n",
       " id & peso & altura & raza.bulldog & raza.Chihuahua & raza.Husky & vacuna.alfa & vacuna.beta\\\\\n",
       "\\hline\n",
       "\t  1     & 1988.4 & 24.5   & 1      & 0      & 0      & 0      & 1     \\\\\n",
       "\t  2     & 2070.0 & 54.9   & 0      & 0      & 1      & 0      & 1     \\\\\n",
       "\t  3     & 2063.3 & 43.5   & 0      & 0      & 1      & 0      & 1     \\\\\n",
       "\t  4     & 1759.0 & 51.4   & 0      & 0      & 1      & 1      & 0     \\\\\n",
       "\t  5     & 2123.1 & 20.8   & 0      & 0      & 1      & 0      & 1     \\\\\n",
       "\t  6     & 1825.3 & 24.0   & 0      & 1      & 0      & 0      & 1     \\\\\n",
       "\t  7     & 2205.3 & 37.2   & 0      & 1      & 0      & 1      & 0     \\\\\n",
       "\t  8     & 1822.6 & 13.9   & 0      & 1      & 0      & 0      & 1     \\\\\n",
       "\t  9     & 1608.1 & 23.5   & 0      & 0      & 1      & 1      & 0     \\\\\n",
       "\t 10     & 1717.8 & 22.7   & 0      & 0      & 1      & 0      & 1     \\\\\n",
       "\t 11     & 2206.2 & 32.7   & 0      & 1      & 0      & 0      & 1     \\\\\n",
       "\t 12     & 1950.3 & 30.1   & 0      & 0      & 1      & 1      & 0     \\\\\n",
       "\t 13     & 2191.8 & 39.1   & 0      & 0      & 1      & 0      & 1     \\\\\n",
       "\t 14     & 2176.5 & 38.2   & 0      & 0      & 1      & 0      & 1     \\\\\n",
       "\t 15     & 2060.8 & 41.8   & 1      & 0      & 0      & 0      & 1     \\\\\n",
       "\\end{tabular}\n"
      ],
      "text/markdown": [
       "\n",
       "| id | peso | altura | raza.bulldog | raza.Chihuahua | raza.Husky | vacuna.alfa | vacuna.beta |\n",
       "|---|---|---|---|---|---|---|---|\n",
       "|  1     | 1988.4 | 24.5   | 1      | 0      | 0      | 0      | 1      |\n",
       "|  2     | 2070.0 | 54.9   | 0      | 0      | 1      | 0      | 1      |\n",
       "|  3     | 2063.3 | 43.5   | 0      | 0      | 1      | 0      | 1      |\n",
       "|  4     | 1759.0 | 51.4   | 0      | 0      | 1      | 1      | 0      |\n",
       "|  5     | 2123.1 | 20.8   | 0      | 0      | 1      | 0      | 1      |\n",
       "|  6     | 1825.3 | 24.0   | 0      | 1      | 0      | 0      | 1      |\n",
       "|  7     | 2205.3 | 37.2   | 0      | 1      | 0      | 1      | 0      |\n",
       "|  8     | 1822.6 | 13.9   | 0      | 1      | 0      | 0      | 1      |\n",
       "|  9     | 1608.1 | 23.5   | 0      | 0      | 1      | 1      | 0      |\n",
       "| 10     | 1717.8 | 22.7   | 0      | 0      | 1      | 0      | 1      |\n",
       "| 11     | 2206.2 | 32.7   | 0      | 1      | 0      | 0      | 1      |\n",
       "| 12     | 1950.3 | 30.1   | 0      | 0      | 1      | 1      | 0      |\n",
       "| 13     | 2191.8 | 39.1   | 0      | 0      | 1      | 0      | 1      |\n",
       "| 14     | 2176.5 | 38.2   | 0      | 0      | 1      | 0      | 1      |\n",
       "| 15     | 2060.8 | 41.8   | 1      | 0      | 0      | 0      | 1      |\n",
       "\n"
      ],
      "text/plain": [
       "   id peso   altura raza.bulldog raza.Chihuahua raza.Husky vacuna.alfa\n",
       "1   1 1988.4 24.5   1            0              0          0          \n",
       "2   2 2070.0 54.9   0            0              1          0          \n",
       "3   3 2063.3 43.5   0            0              1          0          \n",
       "4   4 1759.0 51.4   0            0              1          1          \n",
       "5   5 2123.1 20.8   0            0              1          0          \n",
       "6   6 1825.3 24.0   0            1              0          0          \n",
       "7   7 2205.3 37.2   0            1              0          1          \n",
       "8   8 1822.6 13.9   0            1              0          0          \n",
       "9   9 1608.1 23.5   0            0              1          1          \n",
       "10 10 1717.8 22.7   0            0              1          0          \n",
       "11 11 2206.2 32.7   0            1              0          0          \n",
       "12 12 1950.3 30.1   0            0              1          1          \n",
       "13 13 2191.8 39.1   0            0              1          0          \n",
       "14 14 2176.5 38.2   0            0              1          0          \n",
       "15 15 2060.8 41.8   1            0              0          0          \n",
       "   vacuna.beta\n",
       "1  1          \n",
       "2  1          \n",
       "3  1          \n",
       "4  0          \n",
       "5  1          \n",
       "6  1          \n",
       "7  0          \n",
       "8  1          \n",
       "9  0          \n",
       "10 1          \n",
       "11 1          \n",
       "12 0          \n",
       "13 1          \n",
       "14 1          \n",
       "15 1          "
      ]
     },
     "metadata": {},
     "output_type": "display_data"
    }
   ],
   "source": [
    "dummy <- dummyVars(\" ~ .\", data=perros) #Definimos la funcion de codificacion one-hot\n",
    "\n",
    "final_df <- data.frame(predict(dummy, newdata=perros)) # Realizamos la codificacion de un solo paso en todo el dataframe\n",
    "\n",
    "final_df"
   ]
  },
  {
   "cell_type": "markdown",
   "id": "6b6e6b66",
   "metadata": {},
   "source": [
    "Podemos observar que se han añadido 5 nuevas columnas al marco de datos, ya que la columna original \"vacuna\" y \"raza\" contenían 2 y 3 valores únicos respectivamente.\n",
    "\n",
    "Observe también que la columna original \"vacuna\" y \"raza\" se ha eliminado del dataframe porque ya no son necesaria.\n",
    "\n",
    "La codificación en un solo paso está completa y ahora podemos introducir este conjunto de datos en cualquier algoritmo de aprendizaje automático que queramos."
   ]
  },
  {
   "cell_type": "markdown",
   "id": "97bc6063",
   "metadata": {},
   "source": [
    "## Método de contraste Helmert"
   ]
  },
  {
   "cell_type": "markdown",
   "id": "b12ebe67",
   "metadata": {},
   "source": [
    "- Un metodo de contraste un contraste es una combinación lineal de variables que permite comparar diferentes atributos del tratamiento.\n",
    "\n",
    "Diferentes contrastes pueden ayudar a responder a diferentes preguntas de investigación. Por ejemplo, a veces no es muy informativo comparar los grupos con un nivel de referencia. Tal vez quiera hacer una comparación entre los grupos y la tendencia general de sus datos. Con los datos ordinales, la distancia entre los grupos podría no ser la misma entre los grupos siguientes. Por lo tanto, tendría más sentido hacer comparaciones por pasos."
   ]
  },
  {
   "cell_type": "markdown",
   "id": "b440aaa7",
   "metadata": {},
   "source": [
    "- La codificación de Helmert compara cada nivel de una variable categórica con la media de los niveles siguientes.  \n",
    " Así, el primer contraste compara la media de la variable dependiente del nivel 1 con la media de todos los niveles posteriores (niveles 2, 3 y 4), el segundo contraste compara la media de la variable dependiente del nivel 2 con la media de todos los niveles posteriores (niveles 3 y 4), y el tercer contraste compara la media de la variable dependiente del nivel 3 con la media de todos los niveles posteriores (nivel 4)."
   ]
  },
  {
   "cell_type": "markdown",
   "id": "33ca4c65",
   "metadata": {},
   "source": [
    "Helmert function"
   ]
  },
  {
   "cell_type": "code",
   "execution_count": 6,
   "id": "c422bf3f",
   "metadata": {},
   "outputs": [],
   "source": [
    "helmert<-function(x=NULL,n=NULL){\n",
    "  \n",
    "  if(is.null(x)&is.null(n)){  # ensures that atleast one Argument is provided\n",
    "    error<-\"Error:Provide atleast one urgument\"\n",
    "    return(error)\n",
    "  }else if(!is.null(x)){  # evaluates whether it is n or x provided\n",
    "    if(!is.factor(x)){\n",
    "      error<-\"Error:x should be a factor or ordered factor\"\n",
    "      return(error)\n",
    "    } else{\n",
    "     levels<-length(levels(x)) \n",
    "    }\n",
    "  } else{\n",
    "levels<-n \n",
    "}\n",
    "row<-NULL\n",
    "\n",
    "for(i in 0:(levels-2)){\n",
    "  row<-cbind(row,c(rep(0,i),((levels-(i+1))/(levels-i)),rep(-1/(levels-i),levels-((i+1)))))\n",
    "}\n",
    "\n",
    "if(!is.null(x)){\n",
    "rownames(row)<-levels(x)\n",
    "} else{\n",
    "  rownames(row)<-levels(x) \n",
    "}\n",
    "row\n",
    "}"
   ]
  },
  {
   "cell_type": "code",
   "execution_count": 1,
   "id": "eca31da2",
   "metadata": {},
   "outputs": [
    {
     "data": {
      "text/html": [
       "<table>\n",
       "<tbody>\n",
       "\t<tr><td> 0.75     </td><td> 0.0000000</td><td> 0.0      </td></tr>\n",
       "\t<tr><td>-0.25     </td><td> 0.6666667</td><td> 0.0      </td></tr>\n",
       "\t<tr><td>-0.25     </td><td>-0.3333333</td><td> 0.5      </td></tr>\n",
       "\t<tr><td>-0.25     </td><td>-0.3333333</td><td>-0.5      </td></tr>\n",
       "</tbody>\n",
       "</table>\n"
      ],
      "text/latex": [
       "\\begin{tabular}{lll}\n",
       "\t  0.75      &  0.0000000 &  0.0      \\\\\n",
       "\t -0.25      &  0.6666667 &  0.0      \\\\\n",
       "\t -0.25      & -0.3333333 &  0.5      \\\\\n",
       "\t -0.25      & -0.3333333 & -0.5      \\\\\n",
       "\\end{tabular}\n"
      ],
      "text/markdown": [
       "\n",
       "|  0.75      |  0.0000000 |  0.0       |\n",
       "| -0.25      |  0.6666667 |  0.0       |\n",
       "| -0.25      | -0.3333333 |  0.5       |\n",
       "| -0.25      | -0.3333333 | -0.5       |\n",
       "\n"
      ],
      "text/plain": [
       "     [,1]  [,2]       [,3]\n",
       "[1,]  0.75  0.0000000  0.0\n",
       "[2,] -0.25  0.6666667  0.0\n",
       "[3,] -0.25 -0.3333333  0.5\n",
       "[4,] -0.25 -0.3333333 -0.5"
      ]
     },
     "metadata": {},
     "output_type": "display_data"
    }
   ],
   "source": [
    "my.helmert = matrix(c(3/4, -1/4, -1/4, -1/4, 0, 2/3, -1/3, -1/3, 0, 0, 1/2, -1/2), ncol = 3)\n",
    "my.helmert"
   ]
  },
  {
   "cell_type": "code",
   "execution_count": 8,
   "id": "45f1418e",
   "metadata": {},
   "outputs": [],
   "source": [
    "#assigning the new helmert coding to race.f\n",
    "contrasts(hsb2$race.f) = my.helmert"
   ]
  },
  {
   "cell_type": "code",
   "execution_count": 9,
   "id": "e997c6a3",
   "metadata": {},
   "outputs": [
    {
     "data": {
      "text/plain": [
       "\n",
       "Call:\n",
       "lm(formula = write ~ race.f, data = hsb2)\n",
       "\n",
       "Residuals:\n",
       "     Min       1Q   Median       3Q      Max \n",
       "-23.0552  -5.4583   0.9724   7.0000  18.8000 \n",
       "\n",
       "Coefficients:\n",
       "            Estimate Std. Error t value Pr(>|t|)    \n",
       "(Intercept)  51.6784     0.9821  52.619  < 2e-16 ***\n",
       "race.f1      -6.9601     2.1752  -3.200  0.00160 ** \n",
       "race.f2       6.8724     2.9263   2.348  0.01985 *  \n",
       "race.f3      -5.8552     2.1528  -2.720  0.00712 ** \n",
       "---\n",
       "Signif. codes:  0 '***' 0.001 '**' 0.01 '*' 0.05 '.' 0.1 ' ' 1\n",
       "\n",
       "Residual standard error: 9.025 on 196 degrees of freedom\n",
       "Multiple R-squared:  0.1071,\tAdjusted R-squared:  0.0934 \n",
       "F-statistic: 7.833 on 3 and 196 DF,  p-value: 5.785e-05\n"
      ]
     },
     "metadata": {},
     "output_type": "display_data"
    }
   ],
   "source": [
    "#the regression\n",
    "summary(lm(write ~ race.f, hsb2))"
   ]
  },
  {
   "cell_type": "markdown",
   "id": "6445d246",
   "metadata": {},
   "source": [
    "# Un método de codificación bayesiano: Leave one out"
   ]
  },
  {
   "cell_type": "markdown",
   "id": "cf22fae9",
   "metadata": {},
   "source": [
    "Los codificadores bayesianos utilizan la información de las variables dependientes/objetivo para codificar los datos categóricos."
   ]
  },
  {
   "cell_type": "markdown",
   "id": "0587bbb6",
   "metadata": {},
   "source": [
    "Reutilizaremos nuestra dataframe llamado \"perros\" pero le haremos unas pequeñas modificaciones para poder aplicarle el metodo de Helmet"
   ]
  },
  {
   "cell_type": "code",
   "execution_count": 94,
   "id": "4f7be96a",
   "metadata": {},
   "outputs": [
    {
     "data": {
      "text/html": [
       "<table>\n",
       "<thead><tr><th scope=col>id</th><th scope=col>raza</th><th scope=col>vac_alfa</th></tr></thead>\n",
       "<tbody>\n",
       "\t<tr><td> 1       </td><td>bulldog  </td><td>0        </td></tr>\n",
       "\t<tr><td> 2       </td><td>Husky    </td><td>0        </td></tr>\n",
       "\t<tr><td> 3       </td><td>Husky    </td><td>0        </td></tr>\n",
       "\t<tr><td> 4       </td><td>Husky    </td><td>1        </td></tr>\n",
       "\t<tr><td> 5       </td><td>Husky    </td><td>0        </td></tr>\n",
       "\t<tr><td> 6       </td><td>Chihuahua</td><td>0        </td></tr>\n",
       "\t<tr><td> 7       </td><td>Chihuahua</td><td>1        </td></tr>\n",
       "\t<tr><td> 8       </td><td>Chihuahua</td><td>0        </td></tr>\n",
       "\t<tr><td> 9       </td><td>Husky    </td><td>1        </td></tr>\n",
       "\t<tr><td>10       </td><td>Husky    </td><td>0        </td></tr>\n",
       "\t<tr><td>11       </td><td>Chihuahua</td><td>0        </td></tr>\n",
       "\t<tr><td>12       </td><td>Husky    </td><td>1        </td></tr>\n",
       "\t<tr><td>13       </td><td>Husky    </td><td>0        </td></tr>\n",
       "\t<tr><td>14       </td><td>Husky    </td><td>0        </td></tr>\n",
       "\t<tr><td>15       </td><td>bulldog  </td><td>0        </td></tr>\n",
       "</tbody>\n",
       "</table>\n"
      ],
      "text/latex": [
       "\\begin{tabular}{r|lll}\n",
       " id & raza & vac\\_alfa\\\\\n",
       "\\hline\n",
       "\t  1        & bulldog   & 0        \\\\\n",
       "\t  2        & Husky     & 0        \\\\\n",
       "\t  3        & Husky     & 0        \\\\\n",
       "\t  4        & Husky     & 1        \\\\\n",
       "\t  5        & Husky     & 0        \\\\\n",
       "\t  6        & Chihuahua & 0        \\\\\n",
       "\t  7        & Chihuahua & 1        \\\\\n",
       "\t  8        & Chihuahua & 0        \\\\\n",
       "\t  9        & Husky     & 1        \\\\\n",
       "\t 10        & Husky     & 0        \\\\\n",
       "\t 11        & Chihuahua & 0        \\\\\n",
       "\t 12        & Husky     & 1        \\\\\n",
       "\t 13        & Husky     & 0        \\\\\n",
       "\t 14        & Husky     & 0        \\\\\n",
       "\t 15        & bulldog   & 0        \\\\\n",
       "\\end{tabular}\n"
      ],
      "text/markdown": [
       "\n",
       "| id | raza | vac_alfa |\n",
       "|---|---|---|\n",
       "|  1        | bulldog   | 0         |\n",
       "|  2        | Husky     | 0         |\n",
       "|  3        | Husky     | 0         |\n",
       "|  4        | Husky     | 1         |\n",
       "|  5        | Husky     | 0         |\n",
       "|  6        | Chihuahua | 0         |\n",
       "|  7        | Chihuahua | 1         |\n",
       "|  8        | Chihuahua | 0         |\n",
       "|  9        | Husky     | 1         |\n",
       "| 10        | Husky     | 0         |\n",
       "| 11        | Chihuahua | 0         |\n",
       "| 12        | Husky     | 1         |\n",
       "| 13        | Husky     | 0         |\n",
       "| 14        | Husky     | 0         |\n",
       "| 15        | bulldog   | 0         |\n",
       "\n"
      ],
      "text/plain": [
       "   id raza      vac_alfa\n",
       "1   1 bulldog   0       \n",
       "2   2 Husky     0       \n",
       "3   3 Husky     0       \n",
       "4   4 Husky     1       \n",
       "5   5 Husky     0       \n",
       "6   6 Chihuahua 0       \n",
       "7   7 Chihuahua 1       \n",
       "8   8 Chihuahua 0       \n",
       "9   9 Husky     1       \n",
       "10 10 Husky     0       \n",
       "11 11 Chihuahua 0       \n",
       "12 12 Husky     1       \n",
       "13 13 Husky     0       \n",
       "14 14 Husky     0       \n",
       "15 15 bulldog   0       "
      ]
     },
     "metadata": {},
     "output_type": "display_data"
    }
   ],
   "source": [
    "nuevo_df <- perros %>% \n",
    "  mutate(vacuna = paste(\"vac\", vacuna, sep = \"_\"),\n",
    "         valor_vac = 1\n",
    "         ) %>% \n",
    "  spread(key = vacuna, value = valor_vac, fill = 0)\n",
    "\n",
    "drop <- names(nuevo_df) %in% c(\"peso\", \"altura\", \"vac_beta\") #eliminaremos columnas que no nos sirven para ejemplificar\n",
    "nuevo_df <- nuevo_df[,!drop]\n",
    "nuevo_df"
   ]
  },
  {
   "cell_type": "code",
   "execution_count": 97,
   "id": "d7ad4356",
   "metadata": {},
   "outputs": [
    {
     "name": "stderr",
     "output_type": "stream",
     "text": [
      "Warning message in `[<-.factor`(`*tmp*`, is.na(x), value = \"__MISSING\"):\n",
      "\"invalid factor level, NA generated\""
     ]
    },
    {
     "data": {
      "text/html": [
       "<table>\n",
       "<thead><tr><th scope=col>id</th><th scope=col>raza</th><th scope=col>vac_alfa</th><th scope=col>leaveOneOut_encoded</th></tr></thead>\n",
       "<tbody>\n",
       "\t<tr><td> 1       </td><td>bulldog  </td><td>0        </td><td>0.0000000</td></tr>\n",
       "\t<tr><td> 2       </td><td>Husky    </td><td>0        </td><td>0.3750000</td></tr>\n",
       "\t<tr><td> 3       </td><td>Husky    </td><td>0        </td><td>0.3750000</td></tr>\n",
       "\t<tr><td> 4       </td><td>Husky    </td><td>1        </td><td>0.2500000</td></tr>\n",
       "\t<tr><td> 5       </td><td>Husky    </td><td>0        </td><td>0.3750000</td></tr>\n",
       "\t<tr><td> 6       </td><td>Chihuahua</td><td>0        </td><td>0.3333333</td></tr>\n",
       "\t<tr><td> 7       </td><td>Chihuahua</td><td>1        </td><td>0.0000000</td></tr>\n",
       "\t<tr><td> 8       </td><td>Chihuahua</td><td>0        </td><td>0.3333333</td></tr>\n",
       "\t<tr><td> 9       </td><td>Husky    </td><td>1        </td><td>0.2500000</td></tr>\n",
       "\t<tr><td>10       </td><td>Husky    </td><td>0        </td><td>0.3750000</td></tr>\n",
       "\t<tr><td>11       </td><td>Chihuahua</td><td>0        </td><td>0.3333333</td></tr>\n",
       "\t<tr><td>12       </td><td>Husky    </td><td>1        </td><td>0.2500000</td></tr>\n",
       "\t<tr><td>13       </td><td>Husky    </td><td>0        </td><td>0.3750000</td></tr>\n",
       "\t<tr><td>14       </td><td>Husky    </td><td>0        </td><td>0.3750000</td></tr>\n",
       "\t<tr><td>15       </td><td>bulldog  </td><td>0        </td><td>0.0000000</td></tr>\n",
       "</tbody>\n",
       "</table>\n"
      ],
      "text/latex": [
       "\\begin{tabular}{r|llll}\n",
       " id & raza & vac\\_alfa & leaveOneOut\\_encoded\\\\\n",
       "\\hline\n",
       "\t  1        & bulldog   & 0         & 0.0000000\\\\\n",
       "\t  2        & Husky     & 0         & 0.3750000\\\\\n",
       "\t  3        & Husky     & 0         & 0.3750000\\\\\n",
       "\t  4        & Husky     & 1         & 0.2500000\\\\\n",
       "\t  5        & Husky     & 0         & 0.3750000\\\\\n",
       "\t  6        & Chihuahua & 0         & 0.3333333\\\\\n",
       "\t  7        & Chihuahua & 1         & 0.0000000\\\\\n",
       "\t  8        & Chihuahua & 0         & 0.3333333\\\\\n",
       "\t  9        & Husky     & 1         & 0.2500000\\\\\n",
       "\t 10        & Husky     & 0         & 0.3750000\\\\\n",
       "\t 11        & Chihuahua & 0         & 0.3333333\\\\\n",
       "\t 12        & Husky     & 1         & 0.2500000\\\\\n",
       "\t 13        & Husky     & 0         & 0.3750000\\\\\n",
       "\t 14        & Husky     & 0         & 0.3750000\\\\\n",
       "\t 15        & bulldog   & 0         & 0.0000000\\\\\n",
       "\\end{tabular}\n"
      ],
      "text/markdown": [
       "\n",
       "| id | raza | vac_alfa | leaveOneOut_encoded |\n",
       "|---|---|---|---|\n",
       "|  1        | bulldog   | 0         | 0.0000000 |\n",
       "|  2        | Husky     | 0         | 0.3750000 |\n",
       "|  3        | Husky     | 0         | 0.3750000 |\n",
       "|  4        | Husky     | 1         | 0.2500000 |\n",
       "|  5        | Husky     | 0         | 0.3750000 |\n",
       "|  6        | Chihuahua | 0         | 0.3333333 |\n",
       "|  7        | Chihuahua | 1         | 0.0000000 |\n",
       "|  8        | Chihuahua | 0         | 0.3333333 |\n",
       "|  9        | Husky     | 1         | 0.2500000 |\n",
       "| 10        | Husky     | 0         | 0.3750000 |\n",
       "| 11        | Chihuahua | 0         | 0.3333333 |\n",
       "| 12        | Husky     | 1         | 0.2500000 |\n",
       "| 13        | Husky     | 0         | 0.3750000 |\n",
       "| 14        | Husky     | 0         | 0.3750000 |\n",
       "| 15        | bulldog   | 0         | 0.0000000 |\n",
       "\n"
      ],
      "text/plain": [
       "   id raza      vac_alfa leaveOneOut_encoded\n",
       "1   1 bulldog   0        0.0000000          \n",
       "2   2 Husky     0        0.3750000          \n",
       "3   3 Husky     0        0.3750000          \n",
       "4   4 Husky     1        0.2500000          \n",
       "5   5 Husky     0        0.3750000          \n",
       "6   6 Chihuahua 0        0.3333333          \n",
       "7   7 Chihuahua 1        0.0000000          \n",
       "8   8 Chihuahua 0        0.3333333          \n",
       "9   9 Husky     1        0.2500000          \n",
       "10 10 Husky     0        0.3750000          \n",
       "11 11 Chihuahua 0        0.3333333          \n",
       "12 12 Husky     1        0.2500000          \n",
       "13 13 Husky     0        0.3750000          \n",
       "14 14 Husky     0        0.3750000          \n",
       "15 15 bulldog   0        0.0000000          "
      ]
     },
     "metadata": {},
     "output_type": "display_data"
    }
   ],
   "source": [
    "nuevo_df[[\"leaveOneOut_encoded\"]] <- encode_leave_one_out(nuevo_df[[\"raza\"]], nuevo_df[[\"vac_alfa\"]])\n",
    "nuevo_df"
   ]
  },
  {
   "cell_type": "code",
   "execution_count": null,
   "id": "947422b7",
   "metadata": {},
   "outputs": [],
   "source": []
  }
 ],
 "metadata": {
  "kernelspec": {
   "display_name": "R",
   "language": "R",
   "name": "ir"
  },
  "language_info": {
   "codemirror_mode": "r",
   "file_extension": ".r",
   "mimetype": "text/x-r-source",
   "name": "R",
   "pygments_lexer": "r",
   "version": "3.6.0"
  }
 },
 "nbformat": 4,
 "nbformat_minor": 5
}
