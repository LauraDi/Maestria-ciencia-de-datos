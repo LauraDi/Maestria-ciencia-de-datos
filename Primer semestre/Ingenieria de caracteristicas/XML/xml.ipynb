{
 "cells": [
  {
   "cell_type": "markdown",
   "metadata": {},
   "source": [
    "<center>\n",
    "<p><img src=\"https://mcd.unison.mx/wp-content/themes/awaken/img/logo_mcd.png\" width=\"150\">\n",
    "</p>\n",
    "    \n",
    "<h3>Curso Ingeniería de Características</h3>\n",
    "\n",
    "<h2>Descargando datos de XML</h2>\n",
    "\n",
    "<h4> Alumna: Diana Laura Ballesteros Valenzuela</h4>\n",
    "\n",
    "<p>\n",
    "<img src=\"https://identidadbuho.unison.mx/wp-content/uploads/2019/06/letragrama-cmyk-72.jpg\" width=\"150\">\n",
    "</p>\n",
    "    \n",
    "</center>"
   ]
  },
  {
   "cell_type": "markdown",
   "metadata": {},
   "source": [
    "Importando librerias necesarias"
   ]
  },
  {
   "cell_type": "code",
   "execution_count": 1,
   "metadata": {},
   "outputs": [],
   "source": [
    "import re\n",
    "import pandas as pd\n",
    "import requests\n",
    "import xml.dom.minidom\n",
    "import numpy as np\n",
    "import xml.etree.cElementTree as et\n",
    "from inspect import getmembers , isclass , isfunction"
   ]
  },
  {
   "cell_type": "markdown",
   "metadata": {},
   "source": [
    "Enlace al XML del que queremos obtener la información "
   ]
  },
  {
   "cell_type": "code",
   "execution_count": 2,
   "metadata": {},
   "outputs": [],
   "source": [
    "XML= \"https://raw.githubusercontent.com/mcd-unison/ing-caract/main/ejemplos/integracion/ejemplos/wikipedia-poetas.xml\""
   ]
  },
  {
   "cell_type": "code",
   "execution_count": 3,
   "metadata": {},
   "outputs": [],
   "source": [
    "response = requests.get(XML)\n",
    "\n",
    "with open('poetas.xml', 'wb') as file:\n",
    "    file.write(response.content)\n",
    "    \n",
    "dom = xml.dom.minidom.parse(\"./poetas.xml\") \n",
    "pretty = dom.toprettyxml()"
   ]
  },
  {
   "cell_type": "code",
   "execution_count": 4,
   "metadata": {},
   "outputs": [],
   "source": [
    "tree=et.parse('./poetas.xml') #Leemos archivo\n",
    "root=tree.getroot()"
   ]
  },
  {
   "cell_type": "code",
   "execution_count": 5,
   "metadata": {},
   "outputs": [],
   "source": [
    "lista_autores = []\n",
    "text_list = []\n",
    "\n",
    "for autor in root.findall('{http://www.mediawiki.org/xml/export-0.10/}page'):\n",
    "    title =  autor.find('{http://www.mediawiki.org/xml/export-0.10/}title')\n",
    "    revision =  autor.find('{http://www.mediawiki.org/xml/export-0.10/}revision')\n",
    "    texto = revision.find('{http://www.mediawiki.org/xml/export-0.10/}text')\n",
    "    \n",
    "    lista_autores.append(title.text)\n",
    "    text_list.append(texto.text)"
   ]
  },
  {
   "cell_type": "code",
   "execution_count": 6,
   "metadata": {},
   "outputs": [],
   "source": [
    "df_autores = pd.DataFrame(lista_autores) #Dataframe para autores\n",
    "df_autores.columns = ['Autor']\n",
    "\n",
    "df_text = pd.DataFrame(text_list) #dataframe para texto\n",
    "df_text.columns = ['Texto']\n",
    "\n",
    "df = pd.concat([df_autores, df_text], axis=1, join='inner')"
   ]
  },
  {
   "cell_type": "code",
   "execution_count": 7,
   "metadata": {
    "scrolled": true
   },
   "outputs": [],
   "source": [
    "novela = []\n",
    "for text in df['Texto']: # Filtrar cada obra\n",
    "    novela_found = re.findall(\"(==\\s*Novela\\w*\\s*==)(.*?)(\\n==)\", text, flags = re.DOTALL)\n",
    "    novela.append(novela_found)"
   ]
  },
  {
   "cell_type": "code",
   "execution_count": 8,
   "metadata": {},
   "outputs": [],
   "source": [
    "dfNovela = pd.DataFrame(novela)\n",
    "dfNovela.columns = ['Novela']\n",
    "dfNovela \n",
    "\n",
    "df = pd.concat([df, dfNovela], axis=1, join='inner') \n",
    "df.to_parquet('poetas.parquet')  #dataframe con obra de cada autor"
   ]
  },
  {
   "cell_type": "markdown",
   "metadata": {},
   "source": [
    "Visualizando dataframe final"
   ]
  },
  {
   "cell_type": "code",
   "execution_count": 9,
   "metadata": {},
   "outputs": [
    {
     "data": {
      "text/html": [
       "<div>\n",
       "<style scoped>\n",
       "    .dataframe tbody tr th:only-of-type {\n",
       "        vertical-align: middle;\n",
       "    }\n",
       "\n",
       "    .dataframe tbody tr th {\n",
       "        vertical-align: top;\n",
       "    }\n",
       "\n",
       "    .dataframe thead th {\n",
       "        text-align: right;\n",
       "    }\n",
       "</style>\n",
       "<table border=\"1\" class=\"dataframe\">\n",
       "  <thead>\n",
       "    <tr style=\"text-align: right;\">\n",
       "      <th></th>\n",
       "      <th>Autor</th>\n",
       "      <th>Texto</th>\n",
       "      <th>Novela</th>\n",
       "    </tr>\n",
       "  </thead>\n",
       "  <tbody>\n",
       "    <tr>\n",
       "      <th>0</th>\n",
       "      <td>Julia Morilla de Campbell</td>\n",
       "      <td>'''Julia Morilla de Campbell''' ([[Rosario (Ar...</td>\n",
       "      <td>None</td>\n",
       "    </tr>\n",
       "    <tr>\n",
       "      <th>1</th>\n",
       "      <td>Luis Negreti</td>\n",
       "      <td>{{Ficha de escritor\\n|Imagen              = NE...</td>\n",
       "      <td>None</td>\n",
       "    </tr>\n",
       "    <tr>\n",
       "      <th>2</th>\n",
       "      <td>Poldy Bird</td>\n",
       "      <td>{{Ficha de persona\\n| padres = Enrique Bird Mo...</td>\n",
       "      <td>None</td>\n",
       "    </tr>\n",
       "    <tr>\n",
       "      <th>3</th>\n",
       "      <td>Ana María Shua</td>\n",
       "      <td>{{Ficha de persona\\n|imagen=\\n|nombre de nacim...</td>\n",
       "      <td>[== Novelas ==, =\\n* 1980 - ''Soy paciente'', ...</td>\n",
       "    </tr>\n",
       "    <tr>\n",
       "      <th>4</th>\n",
       "      <td>León Benarós</td>\n",
       "      <td>{{Ficha de persona\\n|nombre           = León B...</td>\n",
       "      <td>None</td>\n",
       "    </tr>\n",
       "    <tr>\n",
       "      <th>...</th>\n",
       "      <td>...</td>\n",
       "      <td>...</td>\n",
       "      <td>...</td>\n",
       "    </tr>\n",
       "    <tr>\n",
       "      <th>634</th>\n",
       "      <td>Humberto Tejera</td>\n",
       "      <td>{{Ficha de persona\\n| nombre = Humberto Tejera...</td>\n",
       "      <td>None</td>\n",
       "    </tr>\n",
       "    <tr>\n",
       "      <th>635</th>\n",
       "      <td>Mario Molina Cruz</td>\n",
       "      <td>{{Ficha de escritor\\n|nombre= Mario Molina Cru...</td>\n",
       "      <td>[== Novela ==, =\\n* ''Xtille Zikw Belé, lhén b...</td>\n",
       "    </tr>\n",
       "    <tr>\n",
       "      <th>636</th>\n",
       "      <td>Luis Ignacio Helguera</td>\n",
       "      <td>{{Ficha de persona\\n| nombre = Luis Ignacio He...</td>\n",
       "      <td>None</td>\n",
       "    </tr>\n",
       "    <tr>\n",
       "      <th>637</th>\n",
       "      <td>Daniel Olivares Viniegra</td>\n",
       "      <td>{{Promocional|8|julio}}\\n\\n'''Daniel Olivares ...</td>\n",
       "      <td>None</td>\n",
       "    </tr>\n",
       "    <tr>\n",
       "      <th>638</th>\n",
       "      <td>Guadalupe Flores Liera</td>\n",
       "      <td>'''Guadalupe Flores Liera''' (Ciudad de México...</td>\n",
       "      <td>None</td>\n",
       "    </tr>\n",
       "  </tbody>\n",
       "</table>\n",
       "<p>639 rows × 3 columns</p>\n",
       "</div>"
      ],
      "text/plain": [
       "                         Autor  \\\n",
       "0    Julia Morilla de Campbell   \n",
       "1                 Luis Negreti   \n",
       "2                   Poldy Bird   \n",
       "3               Ana María Shua   \n",
       "4                 León Benarós   \n",
       "..                         ...   \n",
       "634            Humberto Tejera   \n",
       "635          Mario Molina Cruz   \n",
       "636      Luis Ignacio Helguera   \n",
       "637   Daniel Olivares Viniegra   \n",
       "638     Guadalupe Flores Liera   \n",
       "\n",
       "                                                 Texto  \\\n",
       "0    '''Julia Morilla de Campbell''' ([[Rosario (Ar...   \n",
       "1    {{Ficha de escritor\\n|Imagen              = NE...   \n",
       "2    {{Ficha de persona\\n| padres = Enrique Bird Mo...   \n",
       "3    {{Ficha de persona\\n|imagen=\\n|nombre de nacim...   \n",
       "4    {{Ficha de persona\\n|nombre           = León B...   \n",
       "..                                                 ...   \n",
       "634  {{Ficha de persona\\n| nombre = Humberto Tejera...   \n",
       "635  {{Ficha de escritor\\n|nombre= Mario Molina Cru...   \n",
       "636  {{Ficha de persona\\n| nombre = Luis Ignacio He...   \n",
       "637  {{Promocional|8|julio}}\\n\\n'''Daniel Olivares ...   \n",
       "638  '''Guadalupe Flores Liera''' (Ciudad de México...   \n",
       "\n",
       "                                                Novela  \n",
       "0                                                 None  \n",
       "1                                                 None  \n",
       "2                                                 None  \n",
       "3    [== Novelas ==, =\\n* 1980 - ''Soy paciente'', ...  \n",
       "4                                                 None  \n",
       "..                                                 ...  \n",
       "634                                               None  \n",
       "635  [== Novela ==, =\\n* ''Xtille Zikw Belé, lhén b...  \n",
       "636                                               None  \n",
       "637                                               None  \n",
       "638                                               None  \n",
       "\n",
       "[639 rows x 3 columns]"
      ]
     },
     "execution_count": 9,
     "metadata": {},
     "output_type": "execute_result"
    }
   ],
   "source": [
    "pd.read_parquet('poetas.parquet', engine='pyarrow')"
   ]
  }
 ],
 "metadata": {
  "kernelspec": {
   "display_name": "Python 3 (ipykernel)",
   "language": "python",
   "name": "python3"
  },
  "language_info": {
   "codemirror_mode": {
    "name": "ipython",
    "version": 3
   },
   "file_extension": ".py",
   "mimetype": "text/x-python",
   "name": "python",
   "nbconvert_exporter": "python",
   "pygments_lexer": "ipython3",
   "version": "3.8.13"
  },
  "vscode": {
   "interpreter": {
    "hash": "7bbc88b994272282fd1a09defab1a3c7c3501499b032f2963e06b3f53c7729f7"
   }
  }
 },
 "nbformat": 4,
 "nbformat_minor": 2
}
